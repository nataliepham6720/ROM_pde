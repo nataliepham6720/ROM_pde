{
 "cells": [
  {
   "cell_type": "code",
   "execution_count": 1,
   "id": "7487ed54",
   "metadata": {},
   "outputs": [],
   "source": [
    "import numpy as np\n",
    "import pandas as pd\n",
    "import matplotlib.pyplot as plt\n",
    "import tqdm"
   ]
  },
  {
   "cell_type": "code",
   "execution_count": 2,
   "id": "53f5661b",
   "metadata": {},
   "outputs": [
    {
     "data": {
      "text/html": [
       "<div>\n",
       "<style scoped>\n",
       "    .dataframe tbody tr th:only-of-type {\n",
       "        vertical-align: middle;\n",
       "    }\n",
       "\n",
       "    .dataframe tbody tr th {\n",
       "        vertical-align: top;\n",
       "    }\n",
       "\n",
       "    .dataframe thead th {\n",
       "        text-align: right;\n",
       "    }\n",
       "</style>\n",
       "<table border=\"1\" class=\"dataframe\">\n",
       "  <thead>\n",
       "    <tr style=\"text-align: right;\">\n",
       "      <th></th>\n",
       "      <th>0</th>\n",
       "      <th>1</th>\n",
       "      <th>2</th>\n",
       "      <th>3</th>\n",
       "      <th>4</th>\n",
       "      <th>5</th>\n",
       "      <th>6</th>\n",
       "      <th>7</th>\n",
       "      <th>8</th>\n",
       "      <th>9</th>\n",
       "      <th>...</th>\n",
       "      <th>27665</th>\n",
       "      <th>27666</th>\n",
       "      <th>27667</th>\n",
       "      <th>27668</th>\n",
       "      <th>27669</th>\n",
       "      <th>27670</th>\n",
       "      <th>27671</th>\n",
       "      <th>27672</th>\n",
       "      <th>27673</th>\n",
       "      <th>27674</th>\n",
       "    </tr>\n",
       "  </thead>\n",
       "  <tbody>\n",
       "    <tr>\n",
       "      <th>0</th>\n",
       "      <td>1.224647e-16</td>\n",
       "      <td>0.000000</td>\n",
       "      <td>0.000000</td>\n",
       "      <td>0.000000</td>\n",
       "      <td>0.000000</td>\n",
       "      <td>0.000000</td>\n",
       "      <td>0.000000</td>\n",
       "      <td>0.000000</td>\n",
       "      <td>0.000000</td>\n",
       "      <td>0.000000</td>\n",
       "      <td>...</td>\n",
       "      <td>0.000000</td>\n",
       "      <td>0.000000</td>\n",
       "      <td>0.000000</td>\n",
       "      <td>0.000000</td>\n",
       "      <td>0.000000</td>\n",
       "      <td>0.000000</td>\n",
       "      <td>0.000000</td>\n",
       "      <td>0.000000</td>\n",
       "      <td>0.000000</td>\n",
       "      <td>0.0</td>\n",
       "    </tr>\n",
       "    <tr>\n",
       "      <th>1</th>\n",
       "      <td>6.135885e-03</td>\n",
       "      <td>0.006115</td>\n",
       "      <td>0.006093</td>\n",
       "      <td>0.006071</td>\n",
       "      <td>0.006049</td>\n",
       "      <td>0.006026</td>\n",
       "      <td>0.006004</td>\n",
       "      <td>0.005982</td>\n",
       "      <td>0.005960</td>\n",
       "      <td>0.005939</td>\n",
       "      <td>...</td>\n",
       "      <td>0.001227</td>\n",
       "      <td>0.001226</td>\n",
       "      <td>0.001225</td>\n",
       "      <td>0.001224</td>\n",
       "      <td>0.001223</td>\n",
       "      <td>0.001222</td>\n",
       "      <td>0.001221</td>\n",
       "      <td>0.001220</td>\n",
       "      <td>0.001219</td>\n",
       "      <td>0.0</td>\n",
       "    </tr>\n",
       "    <tr>\n",
       "      <th>2</th>\n",
       "      <td>1.227154e-02</td>\n",
       "      <td>0.012228</td>\n",
       "      <td>0.012184</td>\n",
       "      <td>0.012139</td>\n",
       "      <td>0.012095</td>\n",
       "      <td>0.012050</td>\n",
       "      <td>0.012006</td>\n",
       "      <td>0.011962</td>\n",
       "      <td>0.011918</td>\n",
       "      <td>0.011875</td>\n",
       "      <td>...</td>\n",
       "      <td>0.002454</td>\n",
       "      <td>0.002452</td>\n",
       "      <td>0.002450</td>\n",
       "      <td>0.002448</td>\n",
       "      <td>0.002446</td>\n",
       "      <td>0.002444</td>\n",
       "      <td>0.002442</td>\n",
       "      <td>0.002441</td>\n",
       "      <td>0.002439</td>\n",
       "      <td>0.0</td>\n",
       "    </tr>\n",
       "    <tr>\n",
       "      <th>3</th>\n",
       "      <td>1.840673e-02</td>\n",
       "      <td>0.018340</td>\n",
       "      <td>0.018273</td>\n",
       "      <td>0.018206</td>\n",
       "      <td>0.018139</td>\n",
       "      <td>0.018072</td>\n",
       "      <td>0.018006</td>\n",
       "      <td>0.017939</td>\n",
       "      <td>0.017874</td>\n",
       "      <td>0.017808</td>\n",
       "      <td>...</td>\n",
       "      <td>0.003681</td>\n",
       "      <td>0.003678</td>\n",
       "      <td>0.003675</td>\n",
       "      <td>0.003672</td>\n",
       "      <td>0.003669</td>\n",
       "      <td>0.003666</td>\n",
       "      <td>0.003664</td>\n",
       "      <td>0.003661</td>\n",
       "      <td>0.003658</td>\n",
       "      <td>0.0</td>\n",
       "    </tr>\n",
       "    <tr>\n",
       "      <th>4</th>\n",
       "      <td>2.454123e-02</td>\n",
       "      <td>0.024451</td>\n",
       "      <td>0.024360</td>\n",
       "      <td>0.024271</td>\n",
       "      <td>0.024181</td>\n",
       "      <td>0.024092</td>\n",
       "      <td>0.024003</td>\n",
       "      <td>0.023915</td>\n",
       "      <td>0.023827</td>\n",
       "      <td>0.023740</td>\n",
       "      <td>...</td>\n",
       "      <td>0.004907</td>\n",
       "      <td>0.004904</td>\n",
       "      <td>0.004900</td>\n",
       "      <td>0.004896</td>\n",
       "      <td>0.004892</td>\n",
       "      <td>0.004888</td>\n",
       "      <td>0.004885</td>\n",
       "      <td>0.004881</td>\n",
       "      <td>0.004877</td>\n",
       "      <td>0.0</td>\n",
       "    </tr>\n",
       "  </tbody>\n",
       "</table>\n",
       "<p>5 rows × 27675 columns</p>\n",
       "</div>"
      ],
      "text/plain": [
       "              0         1         2         3         4         5         6  \\\n",
       "0  1.224647e-16  0.000000  0.000000  0.000000  0.000000  0.000000  0.000000   \n",
       "1  6.135885e-03  0.006115  0.006093  0.006071  0.006049  0.006026  0.006004   \n",
       "2  1.227154e-02  0.012228  0.012184  0.012139  0.012095  0.012050  0.012006   \n",
       "3  1.840673e-02  0.018340  0.018273  0.018206  0.018139  0.018072  0.018006   \n",
       "4  2.454123e-02  0.024451  0.024360  0.024271  0.024181  0.024092  0.024003   \n",
       "\n",
       "          7         8         9  ...     27665     27666     27667     27668  \\\n",
       "0  0.000000  0.000000  0.000000  ...  0.000000  0.000000  0.000000  0.000000   \n",
       "1  0.005982  0.005960  0.005939  ...  0.001227  0.001226  0.001225  0.001224   \n",
       "2  0.011962  0.011918  0.011875  ...  0.002454  0.002452  0.002450  0.002448   \n",
       "3  0.017939  0.017874  0.017808  ...  0.003681  0.003678  0.003675  0.003672   \n",
       "4  0.023915  0.023827  0.023740  ...  0.004907  0.004904  0.004900  0.004896   \n",
       "\n",
       "      27669     27670     27671     27672     27673  27674  \n",
       "0  0.000000  0.000000  0.000000  0.000000  0.000000    0.0  \n",
       "1  0.001223  0.001222  0.001221  0.001220  0.001219    0.0  \n",
       "2  0.002446  0.002444  0.002442  0.002441  0.002439    0.0  \n",
       "3  0.003669  0.003666  0.003664  0.003661  0.003658    0.0  \n",
       "4  0.004892  0.004888  0.004885  0.004881  0.004877    0.0  \n",
       "\n",
       "[5 rows x 27675 columns]"
      ]
     },
     "execution_count": 2,
     "metadata": {},
     "output_type": "execute_result"
    }
   ],
   "source": [
    "df = pd.read_csv('full-order_sol.csv')\n",
    "df.head()"
   ]
  },
  {
   "cell_type": "code",
   "execution_count": 3,
   "id": "edaac78b",
   "metadata": {},
   "outputs": [
    {
     "data": {
      "text/plain": [
       "(1025, 27675)"
      ]
     },
     "execution_count": 3,
     "metadata": {},
     "output_type": "execute_result"
    }
   ],
   "source": [
    "# dimension of full order solution\n",
    "df.shape"
   ]
  },
  {
   "cell_type": "code",
   "execution_count": 4,
   "id": "d92e7427",
   "metadata": {},
   "outputs": [
    {
     "data": {
      "text/plain": [
       "(27,)"
      ]
     },
     "execution_count": 4,
     "metadata": {},
     "output_type": "execute_result"
    }
   ],
   "source": [
    "Mu = np.arange(1,7.75,0.25)\n",
    "Mu.shape"
   ]
  },
  {
   "cell_type": "code",
   "execution_count": 5,
   "id": "d81814ce",
   "metadata": {},
   "outputs": [],
   "source": [
    "row = []\n",
    "for i in range(df.shape[0]):\n",
    "    if i%4 == 0:\n",
    "        row.append(int(i/4))\n",
    "\n",
    "col = []\n",
    "for j in range(df.shape[1]):\n",
    "    if j%4 == 0:\n",
    "        col.append(int(j/4))"
   ]
  },
  {
   "cell_type": "code",
   "execution_count": 6,
   "id": "417215d7",
   "metadata": {},
   "outputs": [
    {
     "data": {
      "text/plain": [
       "6919"
      ]
     },
     "execution_count": 6,
     "metadata": {},
     "output_type": "execute_result"
    }
   ],
   "source": [
    "len(col)"
   ]
  },
  {
   "cell_type": "code",
   "execution_count": 7,
   "id": "8e0fc2ce",
   "metadata": {},
   "outputs": [
    {
     "data": {
      "text/plain": [
       "257"
      ]
     },
     "execution_count": 7,
     "metadata": {},
     "output_type": "execute_result"
    }
   ],
   "source": [
    "len(row)"
   ]
  },
  {
   "cell_type": "code",
   "execution_count": 10,
   "id": "df1d0b03",
   "metadata": {},
   "outputs": [],
   "source": [
    "S = df.iloc[row,col]"
   ]
  },
  {
   "cell_type": "code",
   "execution_count": 11,
   "id": "a3d69ac7",
   "metadata": {},
   "outputs": [
    {
     "data": {
      "text/plain": [
       "(257, 6919)"
      ]
     },
     "execution_count": 11,
     "metadata": {},
     "output_type": "execute_result"
    }
   ],
   "source": [
    "S.shape"
   ]
  },
  {
   "cell_type": "code",
   "execution_count": 17,
   "id": "9e80762a",
   "metadata": {},
   "outputs": [],
   "source": [
    "from scipy.linalg import svd\n",
    "\n",
    "def RB(S,L):\n",
    "    ### Inputs:\n",
    "    # S: snapshots of size (N_h x N_s)\n",
    "    # L: rank of approximation solution, L << min(N_h, N_s)\n",
    "\n",
    "    ### Outputs:,\n",
    "    # V: first L columns of U, where S = UAZ'\n",
    "    # Q: collection of coefficient associated with column bases of V\n",
    "    # U_rb: the reduced order solution\n",
    "    \n",
    "    U, s, VT = svd(S)\n",
    "    \n",
    "    V = U[0:S.shape[0],0:L]\n",
    "    print(V.shape)\n",
    "    Q = V.T @ S\n",
    "    print(Q.shape)\n",
    "    U_rb = V @ Q\n",
    "    print(U_rb.shape)\n",
    "    \n",
    "    D = np.diag(s)**2\n",
    "    print(sum(s))\n",
    "    # display projection error\n",
    "    print('projection error =', sum(s[L:s.shape[0]]))"
   ]
  },
  {
   "cell_type": "code",
   "execution_count": 18,
   "id": "f2fb2fe0",
   "metadata": {},
   "outputs": [
    {
     "name": "stdout",
     "output_type": "stream",
     "text": [
      "(257, 10)\n",
      "(10, 6919)\n",
      "(257, 6919)\n",
      "525.248310452582\n",
      "projection error = 2.903134609930324e-05\n"
     ]
    }
   ],
   "source": [
    "RB(S, L = 10)"
   ]
  },
  {
   "cell_type": "code",
   "execution_count": 19,
   "id": "c956476b",
   "metadata": {},
   "outputs": [
    {
     "name": "stdout",
     "output_type": "stream",
     "text": [
      "(257, 7)\n",
      "(7, 6919)\n",
      "(257, 6919)\n",
      "525.248310452582\n",
      "projection error = 0.0003844472757753413\n"
     ]
    }
   ],
   "source": [
    "RB(S, L = 7)"
   ]
  },
  {
   "cell_type": "raw",
   "id": "87cac91b",
   "metadata": {},
   "source": [
    "    \"function [V,Q,U_rb] = RB(S,L)\\n\",\n",
    "    \"   %%% Inputs:\\n\",\n",
    "    \"   % S: snapshots of size (N_h x N_s)\\n\",\n",
    "    \"   % L: rank of approximation solution, L << min(N_h, N_s)\\n\",\n",
    "    \"   \\n\",\n",
    "    \"   %%% Outputs:\\n\",\n",
    "    \"   % V: first L columns of U, where S = UAZ'\\n\",\n",
    "    \"   % Q: collection of coefficient associated with column bases of V\\n\",\n",
    "    \"   % U_rb: the reduced order solution\\n\",\n",
    "    \"   \\n\",\n",
    "    \"   % get SVD\\n\",\n",
    "    \"   [U,A,Z] = svd(S);\\n\",\n",
    "    \"   % approximation using the first L columns of V\\n\",\n",
    "    \"   if nargout == 2\\n\",\n",
    "    \"       V = U(1:size(S,1),1:L);\\n\",\n",
    "    \"       Q = V'*S;\\n\",\n",
    "    \"   elseif nargout == 3\\n\",\n",
    "    \"       V = U(1:size(S,1),1:L);\\n\",\n",
    "    \"       %size(V)\\n\",\n",
    "    \"       Q = V'*S;\\n\",\n",
    "    \"       %size(Q)\\n\",\n",
    "    \"       U_rb = V*Q;\\n\",\n",
    "    \"       %size(U_rb)\\n\",\n",
    "    \"   end\\n\",\n",
    "    \"   \\n\",\n",
    "    \"   D = diag(A).^2;\\n\",\n",
    "    \"   disp(sum(D))\\n\",\n",
    "    \"   % display projection error\\n\",\n",
    "    \"   disp('projection error =')\\n\",\n",
    "    \"   disp(sum(D(L:size(D,1))))\\n\",\n",
    "    \"end\\n\""
   ]
  }
 ],
 "metadata": {
  "kernelspec": {
   "display_name": "Python 3 (ipykernel)",
   "language": "python",
   "name": "python3"
  },
  "language_info": {
   "codemirror_mode": {
    "name": "ipython",
    "version": 3
   },
   "file_extension": ".py",
   "mimetype": "text/x-python",
   "name": "python",
   "nbconvert_exporter": "python",
   "pygments_lexer": "ipython3",
   "version": "3.7.1"
  }
 },
 "nbformat": 4,
 "nbformat_minor": 5
}
