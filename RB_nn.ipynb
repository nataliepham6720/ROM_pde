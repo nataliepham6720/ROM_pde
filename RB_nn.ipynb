{
 "cells": [
  {
   "cell_type": "code",
   "execution_count": 1,
   "id": "7487ed54",
   "metadata": {},
   "outputs": [],
   "source": [
    "# Import neccessary libraries\n",
    "import numpy as np\n",
    "import pandas as pd\n",
    "import matplotlib.pyplot as plt\n",
    "import tqdm"
   ]
  },
  {
   "cell_type": "code",
   "execution_count": 2,
   "id": "53f5661b",
   "metadata": {},
   "outputs": [
    {
     "data": {
      "text/html": [
       "<div>\n",
       "<style scoped>\n",
       "    .dataframe tbody tr th:only-of-type {\n",
       "        vertical-align: middle;\n",
       "    }\n",
       "\n",
       "    .dataframe tbody tr th {\n",
       "        vertical-align: top;\n",
       "    }\n",
       "\n",
       "    .dataframe thead th {\n",
       "        text-align: right;\n",
       "    }\n",
       "</style>\n",
       "<table border=\"1\" class=\"dataframe\">\n",
       "  <thead>\n",
       "    <tr style=\"text-align: right;\">\n",
       "      <th></th>\n",
       "      <th>0</th>\n",
       "      <th>1</th>\n",
       "      <th>2</th>\n",
       "      <th>3</th>\n",
       "      <th>4</th>\n",
       "      <th>5</th>\n",
       "      <th>6</th>\n",
       "      <th>7</th>\n",
       "      <th>8</th>\n",
       "      <th>9</th>\n",
       "      <th>...</th>\n",
       "      <th>27665</th>\n",
       "      <th>27666</th>\n",
       "      <th>27667</th>\n",
       "      <th>27668</th>\n",
       "      <th>27669</th>\n",
       "      <th>27670</th>\n",
       "      <th>27671</th>\n",
       "      <th>27672</th>\n",
       "      <th>27673</th>\n",
       "      <th>27674</th>\n",
       "    </tr>\n",
       "  </thead>\n",
       "  <tbody>\n",
       "    <tr>\n",
       "      <th>0</th>\n",
       "      <td>1.224647e-16</td>\n",
       "      <td>0.000000</td>\n",
       "      <td>0.000000</td>\n",
       "      <td>0.000000</td>\n",
       "      <td>0.000000</td>\n",
       "      <td>0.000000</td>\n",
       "      <td>0.000000</td>\n",
       "      <td>0.000000</td>\n",
       "      <td>0.000000</td>\n",
       "      <td>0.000000</td>\n",
       "      <td>...</td>\n",
       "      <td>0.000000</td>\n",
       "      <td>0.000000</td>\n",
       "      <td>0.000000</td>\n",
       "      <td>0.000000</td>\n",
       "      <td>0.000000</td>\n",
       "      <td>0.000000</td>\n",
       "      <td>0.000000</td>\n",
       "      <td>0.000000</td>\n",
       "      <td>0.000000</td>\n",
       "      <td>0.0</td>\n",
       "    </tr>\n",
       "    <tr>\n",
       "      <th>1</th>\n",
       "      <td>6.135885e-03</td>\n",
       "      <td>0.006115</td>\n",
       "      <td>0.006093</td>\n",
       "      <td>0.006071</td>\n",
       "      <td>0.006049</td>\n",
       "      <td>0.006026</td>\n",
       "      <td>0.006004</td>\n",
       "      <td>0.005982</td>\n",
       "      <td>0.005960</td>\n",
       "      <td>0.005939</td>\n",
       "      <td>...</td>\n",
       "      <td>0.001227</td>\n",
       "      <td>0.001226</td>\n",
       "      <td>0.001225</td>\n",
       "      <td>0.001224</td>\n",
       "      <td>0.001223</td>\n",
       "      <td>0.001222</td>\n",
       "      <td>0.001221</td>\n",
       "      <td>0.001220</td>\n",
       "      <td>0.001219</td>\n",
       "      <td>0.0</td>\n",
       "    </tr>\n",
       "    <tr>\n",
       "      <th>2</th>\n",
       "      <td>1.227154e-02</td>\n",
       "      <td>0.012228</td>\n",
       "      <td>0.012184</td>\n",
       "      <td>0.012139</td>\n",
       "      <td>0.012095</td>\n",
       "      <td>0.012050</td>\n",
       "      <td>0.012006</td>\n",
       "      <td>0.011962</td>\n",
       "      <td>0.011918</td>\n",
       "      <td>0.011875</td>\n",
       "      <td>...</td>\n",
       "      <td>0.002454</td>\n",
       "      <td>0.002452</td>\n",
       "      <td>0.002450</td>\n",
       "      <td>0.002448</td>\n",
       "      <td>0.002446</td>\n",
       "      <td>0.002444</td>\n",
       "      <td>0.002442</td>\n",
       "      <td>0.002441</td>\n",
       "      <td>0.002439</td>\n",
       "      <td>0.0</td>\n",
       "    </tr>\n",
       "    <tr>\n",
       "      <th>3</th>\n",
       "      <td>1.840673e-02</td>\n",
       "      <td>0.018340</td>\n",
       "      <td>0.018273</td>\n",
       "      <td>0.018206</td>\n",
       "      <td>0.018139</td>\n",
       "      <td>0.018072</td>\n",
       "      <td>0.018006</td>\n",
       "      <td>0.017939</td>\n",
       "      <td>0.017874</td>\n",
       "      <td>0.017808</td>\n",
       "      <td>...</td>\n",
       "      <td>0.003681</td>\n",
       "      <td>0.003678</td>\n",
       "      <td>0.003675</td>\n",
       "      <td>0.003672</td>\n",
       "      <td>0.003669</td>\n",
       "      <td>0.003666</td>\n",
       "      <td>0.003664</td>\n",
       "      <td>0.003661</td>\n",
       "      <td>0.003658</td>\n",
       "      <td>0.0</td>\n",
       "    </tr>\n",
       "    <tr>\n",
       "      <th>4</th>\n",
       "      <td>2.454123e-02</td>\n",
       "      <td>0.024451</td>\n",
       "      <td>0.024360</td>\n",
       "      <td>0.024271</td>\n",
       "      <td>0.024181</td>\n",
       "      <td>0.024092</td>\n",
       "      <td>0.024003</td>\n",
       "      <td>0.023915</td>\n",
       "      <td>0.023827</td>\n",
       "      <td>0.023740</td>\n",
       "      <td>...</td>\n",
       "      <td>0.004907</td>\n",
       "      <td>0.004904</td>\n",
       "      <td>0.004900</td>\n",
       "      <td>0.004896</td>\n",
       "      <td>0.004892</td>\n",
       "      <td>0.004888</td>\n",
       "      <td>0.004885</td>\n",
       "      <td>0.004881</td>\n",
       "      <td>0.004877</td>\n",
       "      <td>0.0</td>\n",
       "    </tr>\n",
       "  </tbody>\n",
       "</table>\n",
       "<p>5 rows × 27675 columns</p>\n",
       "</div>"
      ],
      "text/plain": [
       "              0         1         2         3         4         5         6  \\\n",
       "0  1.224647e-16  0.000000  0.000000  0.000000  0.000000  0.000000  0.000000   \n",
       "1  6.135885e-03  0.006115  0.006093  0.006071  0.006049  0.006026  0.006004   \n",
       "2  1.227154e-02  0.012228  0.012184  0.012139  0.012095  0.012050  0.012006   \n",
       "3  1.840673e-02  0.018340  0.018273  0.018206  0.018139  0.018072  0.018006   \n",
       "4  2.454123e-02  0.024451  0.024360  0.024271  0.024181  0.024092  0.024003   \n",
       "\n",
       "          7         8         9  ...     27665     27666     27667     27668  \\\n",
       "0  0.000000  0.000000  0.000000  ...  0.000000  0.000000  0.000000  0.000000   \n",
       "1  0.005982  0.005960  0.005939  ...  0.001227  0.001226  0.001225  0.001224   \n",
       "2  0.011962  0.011918  0.011875  ...  0.002454  0.002452  0.002450  0.002448   \n",
       "3  0.017939  0.017874  0.017808  ...  0.003681  0.003678  0.003675  0.003672   \n",
       "4  0.023915  0.023827  0.023740  ...  0.004907  0.004904  0.004900  0.004896   \n",
       "\n",
       "      27669     27670     27671     27672     27673  27674  \n",
       "0  0.000000  0.000000  0.000000  0.000000  0.000000    0.0  \n",
       "1  0.001223  0.001222  0.001221  0.001220  0.001219    0.0  \n",
       "2  0.002446  0.002444  0.002442  0.002441  0.002439    0.0  \n",
       "3  0.003669  0.003666  0.003664  0.003661  0.003658    0.0  \n",
       "4  0.004892  0.004888  0.004885  0.004881  0.004877    0.0  \n",
       "\n",
       "[5 rows x 27675 columns]"
      ]
     },
     "execution_count": 2,
     "metadata": {},
     "output_type": "execute_result"
    }
   ],
   "source": [
    "# load data for viscous Burger's equation\n",
    "df = pd.read_csv('full-order_sol.csv')\n",
    "df.head()"
   ]
  },
  {
   "cell_type": "code",
   "execution_count": 3,
   "id": "edaac78b",
   "metadata": {},
   "outputs": [
    {
     "data": {
      "text/plain": [
       "(1025, 27675)"
      ]
     },
     "execution_count": 3,
     "metadata": {},
     "output_type": "execute_result"
    }
   ],
   "source": [
    "# dimension of full order solution\n",
    "df.shape"
   ]
  },
  {
   "cell_type": "code",
   "execution_count": 4,
   "id": "d92e7427",
   "metadata": {},
   "outputs": [
    {
     "data": {
      "text/plain": [
       "(27,)"
      ]
     },
     "execution_count": 4,
     "metadata": {},
     "output_type": "execute_result"
    }
   ],
   "source": [
    "Mu = np.arange(1,7.75,0.25)\n",
    "Mu.shape"
   ]
  },
  {
   "cell_type": "code",
   "execution_count": 5,
   "id": "d81814ce",
   "metadata": {},
   "outputs": [
    {
     "name": "stdout",
     "output_type": "stream",
     "text": [
      "257\n",
      "6919\n"
     ]
    }
   ],
   "source": [
    "row = []\n",
    "for i in range(df.shape[0]):\n",
    "    if i%4 == 0:\n",
    "        row.append(i)\n",
    "\n",
    "col = []\n",
    "for j in range(df.shape[1]):\n",
    "    if j%4 == 0:\n",
    "        col.append(j)\n",
    "\n",
    "print(len(row))\n",
    "print(len(col))"
   ]
  },
  {
   "cell_type": "code",
   "execution_count": 6,
   "id": "df1d0b03",
   "metadata": {},
   "outputs": [
    {
     "data": {
      "text/plain": [
       "(257, 6919)"
      ]
     },
     "execution_count": 6,
     "metadata": {},
     "output_type": "execute_result"
    }
   ],
   "source": [
    "S = df.iloc[row,col]\n",
    "S.shape"
   ]
  },
  {
   "cell_type": "code",
   "execution_count": 7,
   "id": "e7297899",
   "metadata": {},
   "outputs": [
    {
     "data": {
      "text/plain": [
       "<matplotlib.legend.Legend at 0x249a3844780>"
      ]
     },
     "execution_count": 7,
     "metadata": {},
     "output_type": "execute_result"
    },
    {
     "data": {
      "image/png": "[encoded data removed]",
      "text/plain": [
       "<Figure size 640x480 with 1 Axes>"
      ]
     },
     "metadata": {},
     "output_type": "display_data"
    }
   ],
   "source": [
    "plt.plot(df.iloc[:,10],'r',label='full-order solution')\n",
    "plt.plot(S.iloc[:,10],'b', label='snapshot')\n",
    "plt.xlabel(\"$x$\")\n",
    "plt.ylabel(\"$y$\")\n",
    "plt.title('Burgers equation with $\\mu = 1.25$, cross-section at $t=0.1$')\n",
    "plt.legend()"
   ]
  },
  {
   "cell_type": "markdown",
   "id": "52100d7f",
   "metadata": {},
   "source": [
    "## 1. RB "
   ]
  },
  {
   "cell_type": "code",
   "execution_count": 8,
   "id": "9e80762a",
   "metadata": {},
   "outputs": [],
   "source": [
    "from scipy.linalg import svd\n",
    "\n",
    "def RB(S,L):\n",
    "    ### Inputs:\n",
    "    # S: snapshots of size (N_h x N_s)\n",
    "    # L: rank of approximation solution, L << min(N_h, N_s)\n",
    "\n",
    "    ### Outputs:,\n",
    "    # V: first L columns of U, where S = UAZ'\n",
    "    # Q: collection of coefficient associated with column bases of V\n",
    "    # U_rb: the reduced order solution\n",
    "    \n",
    "    U, s, VT = svd(S)\n",
    "    \n",
    "    V = U[0:S.shape[0],0:L]\n",
    "    print(V.shape)\n",
    "    Q = V.T @ S\n",
    "    print(Q.shape)\n",
    "    U_rb = V @ Q\n",
    "    print(U_rb.shape)\n",
    "    \n",
    "    D = np.diag(s)**2\n",
    "    print(sum(s))\n",
    "    # display projection error\n",
    "    print('projection error =', sum(s[L:s.shape[0]]))\n",
    "    \n",
    "    return(V, Q, U_rb)"
   ]
  },
  {
   "cell_type": "code",
   "execution_count": 9,
   "id": "f2fb2fe0",
   "metadata": {},
   "outputs": [
    {
     "name": "stdout",
     "output_type": "stream",
     "text": [
      "(257, 10)\n",
      "(10, 6919)\n",
      "(257, 6919)\n",
      "904.1158528835741\n",
      "projection error = 0.9482765231334919\n"
     ]
    }
   ],
   "source": [
    "V, Q, U_rb = RB(S, L = 10) # approximation rank = 10"
   ]
  },
  {
   "cell_type": "code",
   "execution_count": 10,
   "id": "c956476b",
   "metadata": {},
   "outputs": [
    {
     "name": "stdout",
     "output_type": "stream",
     "text": [
      "(257, 7)\n",
      "(7, 6919)\n",
      "(257, 6919)\n",
      "904.1158528835741\n",
      "projection error = 3.5147763680418795\n"
     ]
    }
   ],
   "source": [
    "V, Q, U_rb = RB(S, L = 7) # approximation rank = 7"
   ]
  },
  {
   "cell_type": "code",
   "execution_count": 27,
   "id": "7970d02b",
   "metadata": {},
   "outputs": [
    {
     "data": {
      "image/png": "[encoded data removed]",
      "text/plain": [
       "<Figure size 640x480 with 1 Axes>"
      ]
     },
     "metadata": {},
     "output_type": "display_data"
    }
   ],
   "source": [
    "plt.plot(df.iloc[:,10],'r',label='full-order solution')\n",
    "plt.plot(S.iloc[:,10],'b', label='snapshot')\n",
    "plt.plot(np.array(row),U_rb.iloc[:,10],'g', label='approximated snapshot')\n",
    "plt.xlabel(\"$x$\")\n",
    "plt.ylabel(\"$y$\")\n",
    "plt.title('Burgers equation with $\\mu = 1.25$, cross-section at $t=0.1$')\n",
    "plt.legend()\n",
    "plt.savefig('Burgers_mu_1.25_t=0.1.png')\n",
    "plt.show()"
   ]
  },
  {
   "cell_type": "markdown",
   "id": "f8673131",
   "metadata": {},
   "source": [
    "## Construct data to train regression model"
   ]
  },
  {
   "cell_type": "code",
   "execution_count": 18,
   "id": "258fbe62",
   "metadata": {},
   "outputs": [
    {
     "data": {
      "text/html": [
       "<div>\n",
       "<style scoped>\n",
       "    .dataframe tbody tr th:only-of-type {\n",
       "        vertical-align: middle;\n",
       "    }\n",
       "\n",
       "    .dataframe tbody tr th {\n",
       "        vertical-align: top;\n",
       "    }\n",
       "\n",
       "    .dataframe thead th {\n",
       "        text-align: right;\n",
       "    }\n",
       "</style>\n",
       "<table border=\"1\" class=\"dataframe\">\n",
       "  <thead>\n",
       "    <tr style=\"text-align: right;\">\n",
       "      <th></th>\n",
       "      <th>0</th>\n",
       "      <th>4</th>\n",
       "      <th>8</th>\n",
       "      <th>12</th>\n",
       "      <th>16</th>\n",
       "      <th>20</th>\n",
       "      <th>24</th>\n",
       "      <th>28</th>\n",
       "      <th>32</th>\n",
       "      <th>36</th>\n",
       "      <th>...</th>\n",
       "      <th>27636</th>\n",
       "      <th>27640</th>\n",
       "      <th>27644</th>\n",
       "      <th>27648</th>\n",
       "      <th>27652</th>\n",
       "      <th>27656</th>\n",
       "      <th>27660</th>\n",
       "      <th>27664</th>\n",
       "      <th>27668</th>\n",
       "      <th>27672</th>\n",
       "    </tr>\n",
       "  </thead>\n",
       "  <tbody>\n",
       "    <tr>\n",
       "      <th>0</th>\n",
       "      <td>1.224647e-16</td>\n",
       "      <td>0.000000</td>\n",
       "      <td>0.000000</td>\n",
       "      <td>0.000000</td>\n",
       "      <td>0.000000</td>\n",
       "      <td>0.000000</td>\n",
       "      <td>0.000000</td>\n",
       "      <td>0.000000</td>\n",
       "      <td>0.000000</td>\n",
       "      <td>0.000000</td>\n",
       "      <td>...</td>\n",
       "      <td>0.000000</td>\n",
       "      <td>0.000000</td>\n",
       "      <td>0.000000</td>\n",
       "      <td>0.000000</td>\n",
       "      <td>0.000000</td>\n",
       "      <td>0.000000</td>\n",
       "      <td>0.000000</td>\n",
       "      <td>0.000000</td>\n",
       "      <td>0.000000</td>\n",
       "      <td>0.000000</td>\n",
       "    </tr>\n",
       "    <tr>\n",
       "      <th>4</th>\n",
       "      <td>2.454123e-02</td>\n",
       "      <td>0.024181</td>\n",
       "      <td>0.023827</td>\n",
       "      <td>0.023481</td>\n",
       "      <td>0.023145</td>\n",
       "      <td>0.022817</td>\n",
       "      <td>0.022498</td>\n",
       "      <td>0.022187</td>\n",
       "      <td>0.021885</td>\n",
       "      <td>0.021590</td>\n",
       "      <td>...</td>\n",
       "      <td>0.005020</td>\n",
       "      <td>0.005004</td>\n",
       "      <td>0.004988</td>\n",
       "      <td>0.004973</td>\n",
       "      <td>0.004957</td>\n",
       "      <td>0.004942</td>\n",
       "      <td>0.004926</td>\n",
       "      <td>0.004911</td>\n",
       "      <td>0.004896</td>\n",
       "      <td>0.004881</td>\n",
       "    </tr>\n",
       "    <tr>\n",
       "      <th>8</th>\n",
       "      <td>4.906767e-02</td>\n",
       "      <td>0.048334</td>\n",
       "      <td>0.047621</td>\n",
       "      <td>0.046928</td>\n",
       "      <td>0.046254</td>\n",
       "      <td>0.045598</td>\n",
       "      <td>0.044960</td>\n",
       "      <td>0.044339</td>\n",
       "      <td>0.043735</td>\n",
       "      <td>0.043147</td>\n",
       "      <td>...</td>\n",
       "      <td>0.010040</td>\n",
       "      <td>0.010008</td>\n",
       "      <td>0.009976</td>\n",
       "      <td>0.009945</td>\n",
       "      <td>0.009914</td>\n",
       "      <td>0.009883</td>\n",
       "      <td>0.009853</td>\n",
       "      <td>0.009822</td>\n",
       "      <td>0.009792</td>\n",
       "      <td>0.009762</td>\n",
       "    </tr>\n",
       "    <tr>\n",
       "      <th>12</th>\n",
       "      <td>7.356456e-02</td>\n",
       "      <td>0.072457</td>\n",
       "      <td>0.071383</td>\n",
       "      <td>0.070340</td>\n",
       "      <td>0.069327</td>\n",
       "      <td>0.068343</td>\n",
       "      <td>0.067386</td>\n",
       "      <td>0.066455</td>\n",
       "      <td>0.065550</td>\n",
       "      <td>0.064668</td>\n",
       "      <td>...</td>\n",
       "      <td>0.015059</td>\n",
       "      <td>0.015011</td>\n",
       "      <td>0.014964</td>\n",
       "      <td>0.014917</td>\n",
       "      <td>0.014871</td>\n",
       "      <td>0.014824</td>\n",
       "      <td>0.014778</td>\n",
       "      <td>0.014733</td>\n",
       "      <td>0.014687</td>\n",
       "      <td>0.014642</td>\n",
       "    </tr>\n",
       "    <tr>\n",
       "      <th>16</th>\n",
       "      <td>9.801714e-02</td>\n",
       "      <td>0.096538</td>\n",
       "      <td>0.095104</td>\n",
       "      <td>0.093713</td>\n",
       "      <td>0.092362</td>\n",
       "      <td>0.091049</td>\n",
       "      <td>0.089774</td>\n",
       "      <td>0.088534</td>\n",
       "      <td>0.087327</td>\n",
       "      <td>0.086153</td>\n",
       "      <td>...</td>\n",
       "      <td>0.020078</td>\n",
       "      <td>0.020014</td>\n",
       "      <td>0.019951</td>\n",
       "      <td>0.019889</td>\n",
       "      <td>0.019827</td>\n",
       "      <td>0.019765</td>\n",
       "      <td>0.019704</td>\n",
       "      <td>0.019643</td>\n",
       "      <td>0.019582</td>\n",
       "      <td>0.019522</td>\n",
       "    </tr>\n",
       "    <tr>\n",
       "      <th>...</th>\n",
       "      <td>...</td>\n",
       "      <td>...</td>\n",
       "      <td>...</td>\n",
       "      <td>...</td>\n",
       "      <td>...</td>\n",
       "      <td>...</td>\n",
       "      <td>...</td>\n",
       "      <td>...</td>\n",
       "      <td>...</td>\n",
       "      <td>...</td>\n",
       "      <td>...</td>\n",
       "      <td>...</td>\n",
       "      <td>...</td>\n",
       "      <td>...</td>\n",
       "      <td>...</td>\n",
       "      <td>...</td>\n",
       "      <td>...</td>\n",
       "      <td>...</td>\n",
       "      <td>...</td>\n",
       "      <td>...</td>\n",
       "      <td>...</td>\n",
       "    </tr>\n",
       "    <tr>\n",
       "      <th>1008</th>\n",
       "      <td>-9.801714e-02</td>\n",
       "      <td>-0.096502</td>\n",
       "      <td>-0.095037</td>\n",
       "      <td>-0.093627</td>\n",
       "      <td>-0.092271</td>\n",
       "      <td>-0.090961</td>\n",
       "      <td>-0.089692</td>\n",
       "      <td>-0.088461</td>\n",
       "      <td>-0.087264</td>\n",
       "      <td>-0.086099</td>\n",
       "      <td>...</td>\n",
       "      <td>-0.018999</td>\n",
       "      <td>-0.018939</td>\n",
       "      <td>-0.018879</td>\n",
       "      <td>-0.018820</td>\n",
       "      <td>-0.018761</td>\n",
       "      <td>-0.018703</td>\n",
       "      <td>-0.018644</td>\n",
       "      <td>-0.018587</td>\n",
       "      <td>-0.018529</td>\n",
       "      <td>-0.018472</td>\n",
       "    </tr>\n",
       "    <tr>\n",
       "      <th>1012</th>\n",
       "      <td>-7.356456e-02</td>\n",
       "      <td>-0.072423</td>\n",
       "      <td>-0.071344</td>\n",
       "      <td>-0.070323</td>\n",
       "      <td>-0.069340</td>\n",
       "      <td>-0.068385</td>\n",
       "      <td>-0.067454</td>\n",
       "      <td>-0.066546</td>\n",
       "      <td>-0.065659</td>\n",
       "      <td>-0.064794</td>\n",
       "      <td>...</td>\n",
       "      <td>-0.013987</td>\n",
       "      <td>-0.013943</td>\n",
       "      <td>-0.013899</td>\n",
       "      <td>-0.013855</td>\n",
       "      <td>-0.013812</td>\n",
       "      <td>-0.013769</td>\n",
       "      <td>-0.013726</td>\n",
       "      <td>-0.013684</td>\n",
       "      <td>-0.013641</td>\n",
       "      <td>-0.013599</td>\n",
       "    </tr>\n",
       "    <tr>\n",
       "      <th>1016</th>\n",
       "      <td>-4.906767e-02</td>\n",
       "      <td>-0.048344</td>\n",
       "      <td>-0.047729</td>\n",
       "      <td>-0.047119</td>\n",
       "      <td>-0.046507</td>\n",
       "      <td>-0.045897</td>\n",
       "      <td>-0.045293</td>\n",
       "      <td>-0.044698</td>\n",
       "      <td>-0.044114</td>\n",
       "      <td>-0.043541</td>\n",
       "      <td>...</td>\n",
       "      <td>-0.008975</td>\n",
       "      <td>-0.008947</td>\n",
       "      <td>-0.008919</td>\n",
       "      <td>-0.008891</td>\n",
       "      <td>-0.008863</td>\n",
       "      <td>-0.008835</td>\n",
       "      <td>-0.008808</td>\n",
       "      <td>-0.008781</td>\n",
       "      <td>-0.008753</td>\n",
       "      <td>-0.008726</td>\n",
       "    </tr>\n",
       "    <tr>\n",
       "      <th>1020</th>\n",
       "      <td>-2.454123e-02</td>\n",
       "      <td>-0.024551</td>\n",
       "      <td>-0.024376</td>\n",
       "      <td>-0.024117</td>\n",
       "      <td>-0.023829</td>\n",
       "      <td>-0.023532</td>\n",
       "      <td>-0.023231</td>\n",
       "      <td>-0.022933</td>\n",
       "      <td>-0.022637</td>\n",
       "      <td>-0.022347</td>\n",
       "      <td>...</td>\n",
       "      <td>-0.003964</td>\n",
       "      <td>-0.003951</td>\n",
       "      <td>-0.003939</td>\n",
       "      <td>-0.003926</td>\n",
       "      <td>-0.003914</td>\n",
       "      <td>-0.003902</td>\n",
       "      <td>-0.003890</td>\n",
       "      <td>-0.003878</td>\n",
       "      <td>-0.003866</td>\n",
       "      <td>-0.003854</td>\n",
       "    </tr>\n",
       "    <tr>\n",
       "      <th>1024</th>\n",
       "      <td>-1.224647e-16</td>\n",
       "      <td>0.000000</td>\n",
       "      <td>0.000000</td>\n",
       "      <td>0.000000</td>\n",
       "      <td>0.000000</td>\n",
       "      <td>0.000000</td>\n",
       "      <td>0.000000</td>\n",
       "      <td>0.000000</td>\n",
       "      <td>0.000000</td>\n",
       "      <td>0.000000</td>\n",
       "      <td>...</td>\n",
       "      <td>0.000000</td>\n",
       "      <td>0.000000</td>\n",
       "      <td>0.000000</td>\n",
       "      <td>0.000000</td>\n",
       "      <td>0.000000</td>\n",
       "      <td>0.000000</td>\n",
       "      <td>0.000000</td>\n",
       "      <td>0.000000</td>\n",
       "      <td>0.000000</td>\n",
       "      <td>0.000000</td>\n",
       "    </tr>\n",
       "  </tbody>\n",
       "</table>\n",
       "<p>257 rows × 6919 columns</p>\n",
       "</div>"
      ],
      "text/plain": [
       "                 0         4         8        12        16        20  \\\n",
       "0     1.224647e-16  0.000000  0.000000  0.000000  0.000000  0.000000   \n",
       "4     2.454123e-02  0.024181  0.023827  0.023481  0.023145  0.022817   \n",
       "8     4.906767e-02  0.048334  0.047621  0.046928  0.046254  0.045598   \n",
       "12    7.356456e-02  0.072457  0.071383  0.070340  0.069327  0.068343   \n",
       "16    9.801714e-02  0.096538  0.095104  0.093713  0.092362  0.091049   \n",
       "...            ...       ...       ...       ...       ...       ...   \n",
       "1008 -9.801714e-02 -0.096502 -0.095037 -0.093627 -0.092271 -0.090961   \n",
       "1012 -7.356456e-02 -0.072423 -0.071344 -0.070323 -0.069340 -0.068385   \n",
       "1016 -4.906767e-02 -0.048344 -0.047729 -0.047119 -0.046507 -0.045897   \n",
       "1020 -2.454123e-02 -0.024551 -0.024376 -0.024117 -0.023829 -0.023532   \n",
       "1024 -1.224647e-16  0.000000  0.000000  0.000000  0.000000  0.000000   \n",
       "\n",
       "            24        28        32        36  ...     27636     27640  \\\n",
       "0     0.000000  0.000000  0.000000  0.000000  ...  0.000000  0.000000   \n",
       "4     0.022498  0.022187  0.021885  0.021590  ...  0.005020  0.005004   \n",
       "8     0.044960  0.044339  0.043735  0.043147  ...  0.010040  0.010008   \n",
       "12    0.067386  0.066455  0.065550  0.064668  ...  0.015059  0.015011   \n",
       "16    0.089774  0.088534  0.087327  0.086153  ...  0.020078  0.020014   \n",
       "...        ...       ...       ...       ...  ...       ...       ...   \n",
       "1008 -0.089692 -0.088461 -0.087264 -0.086099  ... -0.018999 -0.018939   \n",
       "1012 -0.067454 -0.066546 -0.065659 -0.064794  ... -0.013987 -0.013943   \n",
       "1016 -0.045293 -0.044698 -0.044114 -0.043541  ... -0.008975 -0.008947   \n",
       "1020 -0.023231 -0.022933 -0.022637 -0.022347  ... -0.003964 -0.003951   \n",
       "1024  0.000000  0.000000  0.000000  0.000000  ...  0.000000  0.000000   \n",
       "\n",
       "         27644     27648     27652     27656     27660     27664     27668  \\\n",
       "0     0.000000  0.000000  0.000000  0.000000  0.000000  0.000000  0.000000   \n",
       "4     0.004988  0.004973  0.004957  0.004942  0.004926  0.004911  0.004896   \n",
       "8     0.009976  0.009945  0.009914  0.009883  0.009853  0.009822  0.009792   \n",
       "12    0.014964  0.014917  0.014871  0.014824  0.014778  0.014733  0.014687   \n",
       "16    0.019951  0.019889  0.019827  0.019765  0.019704  0.019643  0.019582   \n",
       "...        ...       ...       ...       ...       ...       ...       ...   \n",
       "1008 -0.018879 -0.018820 -0.018761 -0.018703 -0.018644 -0.018587 -0.018529   \n",
       "1012 -0.013899 -0.013855 -0.013812 -0.013769 -0.013726 -0.013684 -0.013641   \n",
       "1016 -0.008919 -0.008891 -0.008863 -0.008835 -0.008808 -0.008781 -0.008753   \n",
       "1020 -0.003939 -0.003926 -0.003914 -0.003902 -0.003890 -0.003878 -0.003866   \n",
       "1024  0.000000  0.000000  0.000000  0.000000  0.000000  0.000000  0.000000   \n",
       "\n",
       "         27672  \n",
       "0     0.000000  \n",
       "4     0.004881  \n",
       "8     0.009762  \n",
       "12    0.014642  \n",
       "16    0.019522  \n",
       "...        ...  \n",
       "1008 -0.018472  \n",
       "1012 -0.013599  \n",
       "1016 -0.008726  \n",
       "1020 -0.003854  \n",
       "1024  0.000000  \n",
       "\n",
       "[257 rows x 6919 columns]"
      ]
     },
     "execution_count": 18,
     "metadata": {},
     "output_type": "execute_result"
    }
   ],
   "source": [
    "S"
   ]
  },
  {
   "cell_type": "code",
   "execution_count": 31,
   "id": "a3eb94b8",
   "metadata": {},
   "outputs": [],
   "source": [
    "n = len(row) #257\n",
    "y = []\n",
    "t = []\n",
    "for i in range(len(Mu)-1):\n",
    "    # print(i)\n",
    "    S_i = np.array(S.iloc[:,257*i:257*(i+1)])\n",
    "    # print(np.reshape(S_i, 257*257,order='F'))\n",
    "    for j in range(n):\n",
    "        # print(S_i[j])\n",
    "        y.append(S_i[j])\n",
    "        t.append(j*4*(1/1024))"
   ]
  },
  {
   "cell_type": "code",
   "execution_count": 12,
   "id": "4374c0e4",
   "metadata": {},
   "outputs": [],
   "source": [
    "n = len(row) #257\n",
    "y = []\n",
    "t = []\n",
    "for i in range(len(Mu)-1):\n",
    "    # print(i)\n",
    "    S_i = np.array(S.iloc[:,257*i:257*(i+1)])\n",
    "    # print(np.reshape(S_i, 257*257,order='F'))\n",
    "    y.append(np.reshape(S_i, 257*257,order='F'))\n",
    "    t.append(list(row)*257)"
   ]
  },
  {
   "cell_type": "code",
   "execution_count": 13,
   "id": "3cb173eb",
   "metadata": {},
   "outputs": [],
   "source": [
    "t = np.array(t)\n",
    "y = np.array(y)"
   ]
  },
  {
   "cell_type": "code",
   "execution_count": 32,
   "id": "922b5503",
   "metadata": {},
   "outputs": [
    {
     "name": "stdout",
     "output_type": "stream",
     "text": [
      "[ 8 19  1 11 15  7 22 25  0 17  4  9 23 13  5 21 14 20  3 12]\n"
     ]
    }
   ],
   "source": [
    "# Train GPR for different instance of mu\n",
    "rng = np.random.RandomState(13)\n",
    "training_indices = rng.choice(np.arange(26), size=int(0.8*26), replace=False)\n",
    "print(training_indices)\n",
    "#X_train = np.concatenate((Mu[training_indices].reshape(-1,1),t[training_indices*257]),axis=1)\n",
    "#y_train = y[training_indices]"
   ]
  },
  {
   "cell_type": "code",
   "execution_count": 37,
   "id": "775cf674",
   "metadata": {},
   "outputs": [],
   "source": [
    "def train_loader(S,train_indices):\n",
    "    n = len(row) #257\n",
    "    y_train = []\n",
    "    X_train = []\n",
    "    for i in training_indices:\n",
    "        # print(i)\n",
    "        S_i = np.array(S.iloc[:,257*i:257*(i+1)])\n",
    "        # print(np.reshape(S_i, 257*257,order='F'))\n",
    "        for j in range(n):\n",
    "            # print(S_i[j])\n",
    "            y_train.append(S_i[:,j])\n",
    "            X_train.append(np.array([Mu[i],j*4*(1/1024)]))\n",
    "    return (X_train, y_train)"
   ]
  },
  {
   "cell_type": "code",
   "execution_count": null,
   "id": "6deac0aa",
   "metadata": {},
   "outputs": [],
   "source": [
    "X_train, y_train = train_loader(S,train_indices)"
   ]
  },
  {
   "cell_type": "code",
   "execution_count": 39,
   "id": "0d78d1e8",
   "metadata": {},
   "outputs": [
    {
     "data": {
      "text/plain": [
       "array([3., 0.])"
      ]
     },
     "execution_count": 39,
     "metadata": {},
     "output_type": "execute_result"
    }
   ],
   "source": [
    "X_train[0]"
   ]
  },
  {
   "cell_type": "code",
   "execution_count": 38,
   "id": "9716aebd",
   "metadata": {},
   "outputs": [
    {
     "data": {
      "text/plain": [
       "array([ 0.00000000e+00,  2.24238399e-02,  4.48270705e-02,  6.72017223e-02,\n",
       "        8.95395001e-02,  1.11831733e-01,  1.34069365e-01,  1.56242991e-01,\n",
       "        1.78342909e-01,  2.00359194e-01,  2.22281759e-01,  2.44100418e-01,\n",
       "        2.65804925e-01,  2.87385006e-01,  3.08830376e-01,  3.30130756e-01,\n",
       "        3.51275871e-01,  3.72255463e-01,  3.93059290e-01,  4.13677125e-01,\n",
       "        4.34098764e-01,  4.54314024e-01,  4.74312744e-01,  4.94084789e-01,\n",
       "        5.13620052e-01,  5.32908454e-01,  5.51939949e-01,  5.70704523e-01,\n",
       "        5.89192198e-01,  6.07393038e-01,  6.25297145e-01,  6.42894665e-01,\n",
       "        6.60175795e-01,  6.77130779e-01,  6.93749915e-01,  7.10023560e-01,\n",
       "        7.25942130e-01,  7.41496107e-01,  7.56676040e-01,  7.71472553e-01,\n",
       "        7.85876346e-01,  7.99878201e-01,  8.13468986e-01,  8.26639663e-01,\n",
       "        8.39381289e-01,  8.51685023e-01,  8.63542135e-01,  8.74944006e-01,\n",
       "        8.85882139e-01,  8.96348163e-01,  9.06333842e-01,  9.15831079e-01,\n",
       "        9.24831924e-01,  9.33328584e-01,  9.41313426e-01,  9.48778990e-01,\n",
       "        9.55717994e-01,  9.62123343e-01,  9.67988139e-01,  9.73305689e-01,\n",
       "        9.78069513e-01,  9.82273357e-01,  9.85911198e-01,  9.88977259e-01,\n",
       "        9.91466016e-01,  9.93372209e-01,  9.94690854e-01,  9.95417251e-01,\n",
       "        9.95546998e-01,  9.95076001e-01,  9.94000487e-01,  9.92317010e-01,\n",
       "        9.90022472e-01,  9.87114125e-01,  9.83589589e-01,  9.79446863e-01,\n",
       "        9.74684335e-01,  9.69300796e-01,  9.63295448e-01,  9.56667922e-01,\n",
       "        9.49418286e-01,  9.41547053e-01,  9.33055202e-01,  9.23944177e-01,\n",
       "        9.14215910e-01,  9.03872821e-01,  8.92917834e-01,  8.81354388e-01,\n",
       "        8.69186441e-01,  8.56418482e-01,  8.43055538e-01,  8.29103184e-01,\n",
       "        8.14567547e-01,  7.99455314e-01,  7.83773734e-01,  7.67530629e-01,\n",
       "        7.50734390e-01,  7.33393984e-01,  7.15518957e-01,  6.97119431e-01,\n",
       "        6.78206104e-01,  6.58790251e-01,  6.38883718e-01,  6.18498921e-01,\n",
       "        5.97648836e-01,  5.76347000e-01,  5.54607494e-01,  5.32444941e-01,\n",
       "        5.09874490e-01,  4.86911809e-01,  4.63573067e-01,  4.39874922e-01,\n",
       "        4.15834506e-01,  3.91469402e-01,  3.66797632e-01,  3.41837633e-01,\n",
       "        3.16608236e-01,  2.91128646e-01,  2.65418413e-01,  2.39497413e-01,\n",
       "        2.13385820e-01,  1.87104079e-01,  1.60672877e-01,  1.34113116e-01,\n",
       "        1.07445887e-01,  8.06924326e-02,  5.38741238e-02,  2.70124257e-02,\n",
       "        1.28867126e-04, -2.67549903e-02, -5.36175839e-02, -8.04373813e-02,\n",
       "       -1.07192912e-01, -1.33862797e-01, -1.60425783e-01, -1.86860768e-01,\n",
       "       -2.13146835e-01, -2.39263281e-01, -2.65189643e-01, -2.90905727e-01,\n",
       "       -3.16391636e-01, -3.41627796e-01, -3.66594978e-01, -3.91274324e-01,\n",
       "       -4.15647371e-01, -4.39696070e-01, -4.63402805e-01, -4.86750418e-01,\n",
       "       -5.09722219e-01, -5.32302008e-01, -5.54474086e-01, -5.76223272e-01,\n",
       "       -5.97534912e-01, -6.18394890e-01, -6.38789643e-01, -6.58706160e-01,\n",
       "       -6.78131995e-01, -6.97055272e-01, -7.15464687e-01, -7.33349512e-01,\n",
       "       -7.50699597e-01, -7.67505370e-01, -7.83757837e-01, -7.99448582e-01,\n",
       "       -8.14569760e-01, -8.29114098e-01, -8.43074887e-01, -8.56445981e-01,\n",
       "       -8.69221786e-01, -8.81397258e-01, -8.92967890e-01, -9.03929709e-01,\n",
       "       -9.14279265e-01, -9.24013620e-01, -9.33130343e-01, -9.41627495e-01,\n",
       "       -9.49503620e-01, -9.56757737e-01, -9.63389323e-01, -9.69398308e-01,\n",
       "       -9.74785060e-01, -9.79550373e-01, -9.83695456e-01, -9.87221922e-01,\n",
       "       -9.90131774e-01, -9.92427395e-01, -9.94111535e-01, -9.95187300e-01,\n",
       "       -9.95658140e-01, -9.95527835e-01, -9.94800486e-01, -9.93480505e-01,\n",
       "       -9.91572599e-01, -9.89081762e-01, -9.86013266e-01, -9.82372645e-01,\n",
       "       -9.78165687e-01, -9.73398428e-01, -9.68077135e-01, -9.62208299e-01,\n",
       "       -9.55798627e-01, -9.48855031e-01, -9.41384621e-01, -9.33394691e-01,\n",
       "       -9.24892718e-01, -9.15886346e-01, -9.06383387e-01, -8.96391802e-01,\n",
       "       -8.85919704e-01, -8.74975346e-01, -8.63567111e-01, -8.51703514e-01,\n",
       "       -8.39393186e-01, -8.26644875e-01, -8.13467434e-01, -7.99869821e-01,\n",
       "       -7.85861090e-01, -7.71450386e-01, -7.56646942e-01, -7.41460072e-01,\n",
       "       -7.25899165e-01, -7.09973687e-01, -6.93693168e-01, -6.77067206e-01,\n",
       "       -6.60105456e-01, -6.42817634e-01, -6.25213505e-01, -6.07302888e-01,\n",
       "       -5.89095647e-01, -5.70601689e-01, -5.51830964e-01, -5.32793460e-01,\n",
       "       -5.13499200e-01, -4.93958241e-01, -4.74180670e-01, -4.54176605e-01,\n",
       "       -4.33956188e-01, -4.13529585e-01, -3.92906979e-01, -3.72098560e-01,\n",
       "       -3.51114498e-01, -3.29964888e-01, -3.08659639e-01, -2.87208246e-01,\n",
       "       -2.65619417e-01, -2.43900478e-01, -2.22056586e-01, -2.00089870e-01,\n",
       "       -1.77998818e-01, -1.55778374e-01, -1.33421278e-01, -1.10920961e-01,\n",
       "       -8.82757803e-02, -6.54937023e-02, -4.25959629e-02, -1.96181985e-02,\n",
       "        0.00000000e+00])"
      ]
     },
     "execution_count": 38,
     "metadata": {},
     "output_type": "execute_result"
    }
   ],
   "source": [
    "y_train[0]"
   ]
  },
  {
   "cell_type": "code",
   "execution_count": 40,
   "id": "23aa5d50",
   "metadata": {},
   "outputs": [
    {
     "name": "stdout",
     "output_type": "stream",
     "text": [
      "[ 2  6 10 16 18 24]\n"
     ]
    }
   ],
   "source": [
    "test_indices = np.delete(np.arange(len(Mu)-1),training_indices)\n",
    "print(test_indices)"
   ]
  },
  {
   "cell_type": "code",
   "execution_count": 46,
   "id": "966af24a",
   "metadata": {},
   "outputs": [],
   "source": [
    "def test_loader(S,test_indices):\n",
    "    n = len(row) #257\n",
    "    y_test = []\n",
    "    X_test = []\n",
    "    for i in test_indices:\n",
    "        # print(i)\n",
    "        S_i = np.array(S.iloc[:,257*i:257*(i+1)])\n",
    "        # print(np.reshape(S_i, 257*257,order='F'))\n",
    "        for j in range(n):\n",
    "            # print(S_i[j])\n",
    "            y_test.append(S_i[:,j])\n",
    "            X_test.append(np.array([Mu[i],j*4*(1/1024)]))\n",
    "    return (X_test, y_test)"
   ]
  },
  {
   "cell_type": "code",
   "execution_count": 47,
   "id": "ae3c759e",
   "metadata": {},
   "outputs": [],
   "source": [
    "X_test, y_test = test_loader(S,test_indices)"
   ]
  },
  {
   "cell_type": "code",
   "execution_count": 66,
   "id": "884b9d27",
   "metadata": {},
   "outputs": [
    {
     "data": {
      "text/plain": [
       "5140"
      ]
     },
     "execution_count": 66,
     "metadata": {},
     "output_type": "execute_result"
    }
   ],
   "source": [
    "len(X_train)"
   ]
  },
  {
   "cell_type": "code",
   "execution_count": 67,
   "id": "13ae6ffb",
   "metadata": {},
   "outputs": [
    {
     "data": {
      "text/plain": [
       "(5140, 257)"
      ]
     },
     "execution_count": 67,
     "metadata": {},
     "output_type": "execute_result"
    }
   ],
   "source": [
    "y_train.shape"
   ]
  },
  {
   "cell_type": "markdown",
   "id": "6085a54a",
   "metadata": {},
   "source": [
    "### Make predictions with GPR"
   ]
  },
  {
   "cell_type": "code",
   "execution_count": 158,
   "id": "6b187415",
   "metadata": {},
   "outputs": [
    {
     "data": {
      "text/plain": [
       "0.396**2 * RBF(length_scale=0.383)"
      ]
     },
     "execution_count": 158,
     "metadata": {},
     "output_type": "execute_result"
    }
   ],
   "source": [
    "kernel = 1 * RBF(length_scale=1.0, length_scale_bounds=(1e-2, 1e2))\n",
    "gaussian_process = GaussianProcessRegressor(kernel=kernel, n_restarts_optimizer=9)\n",
    "gaussian_process.fit(X_train, y_train)\n",
    "gaussian_process.kernel_"
   ]
  },
  {
   "cell_type": "code",
   "execution_count": 256,
   "id": "5f32eecb",
   "metadata": {},
   "outputs": [],
   "source": [
    "def plot_GPR_full(tt,mu,timestamp,n_mu):\n",
    "    X = np.concatenate((np.array([mu]),tt)).reshape(1,-1)\n",
    "    mean_prediction, std_prediction = gaussian_process.predict(X, return_std=True)\n",
    "    #print(std_prediction)\n",
    "    \n",
    "    mean = mean_prediction.reshape(257,257)[timestamp]\n",
    "    #print(mean.shape)\n",
    "    \n",
    "    plt.plot(df.iloc[:,timestamp+1024*n_mu],'r',label='full-order solution')\n",
    "    # plt.plot(S.iloc[:,10],'b', label='snapshot')\n",
    "    t = np.array(row)\n",
    "    plt.plot(t,U_rb.iloc[:,timestamp+257*n_mu],'y', label='approximated snapshot')\n",
    "    # plt.plot(X, y, label=\"learned snapshot\", linestyle=\"dotted\")\n",
    "    # plt.scatter(X_train, y_train, label=\"Observations\")\n",
    " \n",
    "    plt.plot(t, mean, label=\"regression mean prediction\",linestyle=\"dotted\")\n",
    "    plt.fill_between(\n",
    "        t.ravel(),\n",
    "        mean - 1.96 * std_prediction,\n",
    "        mean + 1.96 * std_prediction,\n",
    "        alpha=0.5,\n",
    "        label=r\"95% confidence interval\",\n",
    "    )\n",
    "    plt.legend()\n",
    "    plt.xlabel(\"$x$\")\n",
    "    plt.ylabel(\"$u$\")\n",
    "    _ = plt.title(f\"Gaussian process regression on noise-free dataset with $\\mu=${mu}\")"
   ]
  },
  {
   "cell_type": "code",
   "execution_count": 257,
   "id": "74bca712",
   "metadata": {},
   "outputs": [
    {
     "data": {
      "image/png": "[encoded data removed]",
      "text/plain": [
       "<Figure size 640x480 with 1 Axes>"
      ]
     },
     "metadata": {},
     "output_type": "display_data"
    }
   ],
   "source": [
    "tt = t[0]\n",
    "plot_GPR_full(tt,mu=Mu[11],timestamp=40,n_mu=11)"
   ]
  },
  {
   "cell_type": "markdown",
   "id": "003af6ae",
   "metadata": {},
   "source": [
    "## 3. Train a neural network"
   ]
  },
  {
   "cell_type": "markdown",
   "id": "97a1d84c",
   "metadata": {},
   "source": [
    "#### Train (Offline)\n",
    "Input:\n",
    "- Collection of snapshot $S$\n",
    "- Values of parameter $\\mu$\n",
    "\n",
    "Output:\n",
    "- Orthogonal bases $V$ of rank $L$\n",
    "- Regression model $\\hat{q}(·; ·)$\n",
    "\n",
    "$\\rightarrow$ Model: Single-layer fully connected neural network\n",
    "\n",
    "$\\rightarrow$ Parameters:\n",
    "* Hidden dimension: 1000\n",
    "* Input: ($\\mu$,$t$) (dim=2)\n",
    "* Output: reduced-basis solution (dim=257)\n",
    "\n",
    "#### Inference (Online)\n",
    "Input:\n",
    "- New value ($\\mu$,$t$)\n",
    "\n",
    "Output\n",
    "- Reduced-basis solution of $u$ depends on $x$"
   ]
  },
  {
   "cell_type": "code",
   "execution_count": 124,
   "id": "27480f6b",
   "metadata": {},
   "outputs": [],
   "source": [
    "import torch\n",
    "from torch.utils.data import Dataset, DataLoader\n",
    "import torch.nn as nn\n",
    "import torch.optim as optim\n",
    "from typing import Optional, List, Tuple, Dict\n",
    "\n",
    "\n",
    "if torch.cuda.is_available():\n",
    "    device = torch.device(\"cuda\")\n",
    "else:\n",
    "    device = torch.device(\"cpu\")"
   ]
  },
  {
   "cell_type": "code",
   "execution_count": 116,
   "id": "0f186be4",
   "metadata": {},
   "outputs": [],
   "source": [
    "class SingleLayerMLP(nn.Module):\n",
    "    \"\"\"constructing a single layer neural network with Pytorch\"\"\"\n",
    "    def __init__(self, indim, outdim, hidden_layer=100):\n",
    "        super(SingleLayerMLP, self).__init__()\n",
    "        self.hidden_layer = nn.Linear(indim, hidden_layer)\n",
    "        self.output = nn.Linear(hidden_layer, outdim)\n",
    "        self.activation = nn.ReLU()\n",
    "\n",
    "\n",
    "    def forward(self, x):\n",
    "        \"\"\"\n",
    "        x shape (batch_size, input_dim)\n",
    "        \"\"\"\n",
    "        x = x.to(self.hidden_layer.weight.dtype)\n",
    "        hidden = self.hidden_layer(x)\n",
    "        activate = self.activation(hidden)\n",
    "        output = self.output(activate)\n",
    "        return output\n",
    "    \n",
    "\n",
    "\n",
    "class DS(Dataset):\n",
    "    def __init__(self, X: np.ndarray, Y: np.ndarray):\n",
    "        self.length = len(X)\n",
    "        self.X = X\n",
    "        self.Y = Y\n",
    "\n",
    "    def __getitem__(self, idx):\n",
    "        x = self.X[idx, :]\n",
    "        y = self.Y[idx, :]\n",
    "        return (x, y)\n",
    "\n",
    "    def __len__(self):\n",
    "        return self.length\n",
    "\n",
    "\n",
    "def validate(model, loader, loss_fnc, optimizer):\n",
    "    \"\"\"takes in a dataloader, then returns the model loss and accuracy on this loader\"\"\"\n",
    "    \n",
    "    with torch.no_grad():\n",
    "        total_loss = 0\n",
    "        total_correct = 0\n",
    "        total_samples = 0\n",
    "        \n",
    "        model.eval()\n",
    "        for x, y in loader:\n",
    "            x, y = x.to(device), y.to(device).float()\n",
    "            outputs = model(x)\n",
    "            loss = loss_fnc(outputs, y)\n",
    "            total_loss += loss.item() * x.shape[0]\n",
    "            #predictions = outputs.argmax(dim=1)\n",
    "            #total_correct += (predictions == y).sum().item()\n",
    "            total_samples += x.shape[0]\n",
    "            \n",
    "        # Calculate the average loss and accuracy\n",
    "        average_loss = total_loss / total_samples\n",
    "        #average_accuracy = total_correct / total_samples\n",
    "\n",
    "        return average_loss #, average_accuracy\n",
    "\n",
    "\n",
    "def train(model, train_loader, criterion, optimizer):\n",
    "    total_loss = 0\n",
    "    total_correct = 0\n",
    "    total_samples = 0\n",
    "    \n",
    "    model.train()\n",
    "    for x, y in train_loader:\n",
    "        x, y = x.to(device), y.to(device).float()\n",
    "        optimizer.zero_grad()\n",
    "        outputs = model(x)\n",
    "        loss = criterion(outputs, y)\n",
    "        loss.backward()\n",
    "        optimizer.step()\n",
    "        total_loss += loss.item() * x.shape[0]\n",
    "        #predictions = outputs.argmax(dim=1)\n",
    "        #total_correct += (predictions == y).sum().item()\n",
    "        total_samples += x.shape[0]\n",
    "\n",
    "    # Calculate the average loss and accuracy\n",
    "    average_loss = total_loss / total_samples\n",
    "    #average_accuracy = total_correct / total_samples\n",
    "\n",
    "    return average_loss #, average_accuracy"
   ]
  },
  {
   "cell_type": "code",
   "execution_count": 118,
   "id": "96510013",
   "metadata": {},
   "outputs": [
    {
     "name": "stdout",
     "output_type": "stream",
     "text": [
      "5140 2\n",
      "5140 2\n",
      "Epoch 1: Train Loss=0.0202, Test Loss=0.0592\n",
      "Epoch 2: Train Loss=0.0127, Test Loss=0.0460\n",
      "Epoch 3: Train Loss=0.0107, Test Loss=0.0401\n",
      "Epoch 4: Train Loss=0.0098, Test Loss=0.0368\n",
      "Epoch 5: Train Loss=0.0093, Test Loss=0.0348\n",
      "Epoch 6: Train Loss=0.0091, Test Loss=0.0334\n",
      "Epoch 7: Train Loss=0.0089, Test Loss=0.0323\n",
      "Epoch 8: Train Loss=0.0088, Test Loss=0.0314\n",
      "Epoch 9: Train Loss=0.0087, Test Loss=0.0305\n",
      "Epoch 10: Train Loss=0.0087, Test Loss=0.0298\n",
      "Epoch 11: Train Loss=0.0086, Test Loss=0.0291\n",
      "Epoch 12: Train Loss=0.0085, Test Loss=0.0285\n",
      "Epoch 13: Train Loss=0.0085, Test Loss=0.0280\n",
      "Epoch 14: Train Loss=0.0084, Test Loss=0.0274\n",
      "Epoch 15: Train Loss=0.0084, Test Loss=0.0270\n",
      "Epoch 16: Train Loss=0.0083, Test Loss=0.0265\n",
      "Epoch 17: Train Loss=0.0083, Test Loss=0.0261\n",
      "Epoch 18: Train Loss=0.0082, Test Loss=0.0257\n",
      "Epoch 19: Train Loss=0.0082, Test Loss=0.0253\n",
      "Epoch 20: Train Loss=0.0081, Test Loss=0.0249\n",
      "Epoch 21: Train Loss=0.0081, Test Loss=0.0246\n",
      "Epoch 22: Train Loss=0.0080, Test Loss=0.0243\n",
      "Epoch 23: Train Loss=0.0080, Test Loss=0.0240\n",
      "Epoch 24: Train Loss=0.0079, Test Loss=0.0237\n",
      "Epoch 25: Train Loss=0.0079, Test Loss=0.0234\n",
      "Epoch 26: Train Loss=0.0078, Test Loss=0.0232\n",
      "Epoch 27: Train Loss=0.0078, Test Loss=0.0229\n",
      "Epoch 28: Train Loss=0.0077, Test Loss=0.0227\n",
      "Epoch 29: Train Loss=0.0077, Test Loss=0.0224\n",
      "Epoch 30: Train Loss=0.0076, Test Loss=0.0222\n",
      "Epoch 31: Train Loss=0.0076, Test Loss=0.0220\n",
      "Epoch 32: Train Loss=0.0075, Test Loss=0.0218\n",
      "Epoch 33: Train Loss=0.0075, Test Loss=0.0216\n",
      "Epoch 34: Train Loss=0.0074, Test Loss=0.0215\n",
      "Epoch 35: Train Loss=0.0074, Test Loss=0.0213\n",
      "Epoch 36: Train Loss=0.0073, Test Loss=0.0211\n",
      "Epoch 37: Train Loss=0.0073, Test Loss=0.0210\n",
      "Epoch 38: Train Loss=0.0072, Test Loss=0.0208\n",
      "Epoch 39: Train Loss=0.0072, Test Loss=0.0207\n",
      "Epoch 40: Train Loss=0.0072, Test Loss=0.0206\n",
      "Epoch 41: Train Loss=0.0071, Test Loss=0.0204\n",
      "Epoch 42: Train Loss=0.0071, Test Loss=0.0203\n",
      "Epoch 43: Train Loss=0.0070, Test Loss=0.0202\n",
      "Epoch 44: Train Loss=0.0070, Test Loss=0.0201\n",
      "Epoch 45: Train Loss=0.0069, Test Loss=0.0199\n",
      "Epoch 46: Train Loss=0.0069, Test Loss=0.0198\n",
      "Epoch 47: Train Loss=0.0068, Test Loss=0.0197\n",
      "Epoch 48: Train Loss=0.0068, Test Loss=0.0196\n",
      "Epoch 49: Train Loss=0.0068, Test Loss=0.0195\n",
      "Epoch 50: Train Loss=0.0067, Test Loss=0.0194\n",
      "Epoch 51: Train Loss=0.0067, Test Loss=0.0193\n",
      "Epoch 52: Train Loss=0.0066, Test Loss=0.0192\n",
      "Epoch 53: Train Loss=0.0066, Test Loss=0.0191\n",
      "Epoch 54: Train Loss=0.0066, Test Loss=0.0190\n",
      "Epoch 55: Train Loss=0.0065, Test Loss=0.0189\n",
      "Epoch 56: Train Loss=0.0065, Test Loss=0.0188\n",
      "Epoch 57: Train Loss=0.0064, Test Loss=0.0187\n",
      "Epoch 58: Train Loss=0.0064, Test Loss=0.0186\n",
      "Epoch 59: Train Loss=0.0064, Test Loss=0.0185\n",
      "Epoch 60: Train Loss=0.0063, Test Loss=0.0183\n",
      "Epoch 61: Train Loss=0.0063, Test Loss=0.0182\n",
      "Epoch 62: Train Loss=0.0062, Test Loss=0.0181\n",
      "Epoch 63: Train Loss=0.0062, Test Loss=0.0180\n",
      "Epoch 64: Train Loss=0.0062, Test Loss=0.0179\n",
      "Epoch 65: Train Loss=0.0061, Test Loss=0.0178\n",
      "Epoch 66: Train Loss=0.0061, Test Loss=0.0177\n",
      "Epoch 67: Train Loss=0.0061, Test Loss=0.0176\n",
      "Epoch 68: Train Loss=0.0060, Test Loss=0.0174\n",
      "Epoch 69: Train Loss=0.0060, Test Loss=0.0173\n",
      "Epoch 70: Train Loss=0.0060, Test Loss=0.0172\n",
      "Epoch 71: Train Loss=0.0059, Test Loss=0.0171\n",
      "Epoch 72: Train Loss=0.0059, Test Loss=0.0170\n",
      "Epoch 73: Train Loss=0.0059, Test Loss=0.0169\n",
      "Epoch 74: Train Loss=0.0058, Test Loss=0.0168\n",
      "Epoch 75: Train Loss=0.0058, Test Loss=0.0167\n",
      "Epoch 76: Train Loss=0.0058, Test Loss=0.0166\n",
      "Epoch 77: Train Loss=0.0057, Test Loss=0.0164\n",
      "Epoch 78: Train Loss=0.0057, Test Loss=0.0163\n",
      "Epoch 79: Train Loss=0.0057, Test Loss=0.0162\n",
      "Epoch 80: Train Loss=0.0056, Test Loss=0.0161\n",
      "Epoch 81: Train Loss=0.0056, Test Loss=0.0160\n",
      "Epoch 82: Train Loss=0.0056, Test Loss=0.0159\n",
      "Epoch 83: Train Loss=0.0056, Test Loss=0.0158\n",
      "Epoch 84: Train Loss=0.0055, Test Loss=0.0157\n",
      "Epoch 85: Train Loss=0.0055, Test Loss=0.0155\n",
      "Epoch 86: Train Loss=0.0055, Test Loss=0.0154\n",
      "Epoch 87: Train Loss=0.0055, Test Loss=0.0153\n",
      "Epoch 88: Train Loss=0.0054, Test Loss=0.0152\n",
      "Epoch 89: Train Loss=0.0054, Test Loss=0.0151\n",
      "Epoch 90: Train Loss=0.0054, Test Loss=0.0150\n",
      "Epoch 91: Train Loss=0.0054, Test Loss=0.0149\n",
      "Epoch 92: Train Loss=0.0053, Test Loss=0.0148\n",
      "Epoch 93: Train Loss=0.0053, Test Loss=0.0147\n",
      "Epoch 94: Train Loss=0.0053, Test Loss=0.0146\n",
      "Epoch 95: Train Loss=0.0053, Test Loss=0.0145\n",
      "Epoch 96: Train Loss=0.0053, Test Loss=0.0144\n",
      "Epoch 97: Train Loss=0.0052, Test Loss=0.0143\n",
      "Epoch 98: Train Loss=0.0052, Test Loss=0.0142\n",
      "Epoch 99: Train Loss=0.0052, Test Loss=0.0141\n",
      "Epoch 100: Train Loss=0.0052, Test Loss=0.0140\n"
     ]
    }
   ],
   "source": [
    "if __name__ == \"__main__\":\n",
    "\n",
    "    indim = 2\n",
    "    outdim = 257\n",
    "    hidden_dim = 1000\n",
    "    lr = 0.01\n",
    "    batch_size = 2\n",
    "    epochs = 100\n",
    "\n",
    "    #dataset\n",
    "    Xtrain = np.array(X_train) # np.loadtxt(\"data/XTrain.txt\", delimiter=\"\\t\")\n",
    "    Ytrain = np.array(y_train) # np.loadtxt(\"data/yTrain.txt\", delimiter=\"\\t\").astype(int)\n",
    "    m1, n1 = Xtrain.shape\n",
    "    print(m1, n1)\n",
    "    train_ds = DS(Xtrain, Ytrain)\n",
    "    train_loader = DataLoader(train_ds, batch_size=batch_size)\n",
    "\n",
    "    Xtest = np.array(X_test) # np.loadtxt(\"data/XTest.txt\", delimiter=\"\\t\")\n",
    "    Ytest = np.array(y_test) # np.loadtxt(\"data/yTest.txt\", delimiter=\"\\t\").astype(int)\n",
    "    m2, n2 = Xtest.shape\n",
    "    print(m1, n2)\n",
    "    test_ds = DS(Xtest, Ytest)\n",
    "    test_loader = DataLoader(test_ds, batch_size=batch_size)\n",
    "\n",
    "    #construct the model\n",
    "    model = SingleLayerMLP(indim, outdim, hidden_dim).to(device)\n",
    "\n",
    "    # Define the loss function\n",
    "    loss_fnc = nn.MSELoss()\n",
    "\n",
    "    # Define the optimizer\n",
    "    optimizer = optim.SGD(model.parameters(), lr=lr)\n",
    "    \n",
    "    #construct the training process\n",
    "    #train_losses, train_accs, test_losses, test_accs = [], [], [], []\n",
    "    train_losses, test_losses = [], []\n",
    "    for epoch in range(epochs):\n",
    "        # Train the model\n",
    "        train_loss = train(model, train_loader, loss_fnc, optimizer)\n",
    "        train_losses.append(train_loss)\n",
    "        #train_accs.append(train_acc)\n",
    "\n",
    "        # Evaluate the model on the test set\n",
    "        test_loss = validate(model, test_loader, loss_fnc, optimizer)\n",
    "        test_losses.append(test_loss)\n",
    "        #test_accs.append(test_acc)\n",
    "\n",
    "        # Print the results for this epoch\n",
    "        print(f\"Epoch {epoch+1}: Train Loss={train_loss:.4f}, Test Loss={test_loss:.4f}\")"
   ]
  },
  {
   "cell_type": "code",
   "execution_count": 119,
   "id": "78ab9f17",
   "metadata": {},
   "outputs": [
    {
     "data": {
      "image/png": "[encoded data removed]",
      "text/plain": [
       "<Figure size 640x480 with 1 Axes>"
      ]
     },
     "metadata": {},
     "output_type": "display_data"
    }
   ],
   "source": [
    "# plot training and testing losses\n",
    "plt.plot(np.arange(epochs), np.array(train_losses), label=\"Train\")\n",
    "plt.plot(np.arange(epochs), np.array(test_losses), label=\"Test\")\n",
    "plt.xlabel(\"Epochs\")\n",
    "plt.ylabel(\"Loss\")\n",
    "plt.title('Train and Test Loss - Implemetation with Pytorch')\n",
    "plt.legend()\n",
    "plt.savefig('nn_loss2.png')\n",
    "plt.show()"
   ]
  },
  {
   "cell_type": "code",
   "execution_count": 128,
   "id": "9da91f6d",
   "metadata": {},
   "outputs": [],
   "source": [
    "def plot_nn_full(tt,mu,timestamp,n_mu):\n",
    "    X = np.array([mu,tt])\n",
    "    X = torch.tensor(X).float()\n",
    "    print(X)\n",
    "    prediction = model(X)\n",
    "    #print(std_prediction)\n",
    "    \n",
    "    pred = prediction #.reshape(257,257)[timestamp]\n",
    "    #print(mean.shape)\n",
    "    \n",
    "    plt.plot(df.iloc[:,(timestamp+256*n_mu)*4],'r',label='full-order solution')\n",
    "    # plt.plot(S.iloc[:,10],'b', label='snapshot')\n",
    "    t = np.array(row)\n",
    "    plt.plot(t,U_rb.iloc[:,(timestamp+256*n_mu)],'y', label='approximated snapshot')\n",
    "    # plt.plot(X, y, label=\"learned snapshot\", linestyle=\"dotted\")\n",
    "    # plt.scatter(X_train, y_train, label=\"Observations\")\n",
    " \n",
    "    plt.plot(t, pred.detach().numpy(), label=\"Neural network regression prediction\") #,linestyle=\"dotted\")\n",
    "    plt.legend()\n",
    "    plt.xlabel(\"$x$\")\n",
    "    plt.ylabel(\"$u$\")\n",
    "    _ = plt.title(f\"Neural network regression on noise-free dataset with $\\mu=${mu}\")\n",
    "    plt.savefig(f'NN_rb_mu={mu}.png')\n",
    "    plt.show"
   ]
  },
  {
   "cell_type": "code",
   "execution_count": 126,
   "id": "9c82f609",
   "metadata": {},
   "outputs": [
    {
     "data": {
      "text/plain": [
       "array([ 2,  6, 10, 16, 18, 24])"
      ]
     },
     "execution_count": 126,
     "metadata": {},
     "output_type": "execute_result"
    }
   ],
   "source": [
    "test_indices"
   ]
  },
  {
   "cell_type": "code",
   "execution_count": 127,
   "id": "ed2a3982",
   "metadata": {},
   "outputs": [
    {
     "name": "stdout",
     "output_type": "stream",
     "text": [
      "0.0\n"
     ]
    }
   ],
   "source": [
    "tt = t[0]\n",
    "print(tt)\n",
    "#plot_nn_full(tt,mu=Mu[16],timestamp=40,n_mu=16)"
   ]
  },
  {
   "cell_type": "code",
   "execution_count": 129,
   "id": "487dab45",
   "metadata": {},
   "outputs": [
    {
     "name": "stdout",
     "output_type": "stream",
     "text": [
      "tensor([5., 0.])\n"
     ]
    },
    {
     "data": {
      "image/png": "[encoded data removed]",
      "text/plain": [
       "<Figure size 640x480 with 1 Axes>"
      ]
     },
     "metadata": {},
     "output_type": "display_data"
    }
   ],
   "source": [
    "plot_nn_full(tt,mu=Mu[16],timestamp=0,n_mu=16)"
   ]
  }
 ],
 "metadata": {
  "kernelspec": {
   "display_name": "Python 3 (ipykernel)",
   "language": "python",
   "name": "python3"
  },
  "language_info": {
   "codemirror_mode": {
    "name": "ipython",
    "version": 3
   },
   "file_extension": ".py",
   "mimetype": "text/x-python",
   "name": "python",
   "nbconvert_exporter": "python",
   "pygments_lexer": "ipython3",
   "version": "3.7.1"
  }
 },
 "nbformat": 4,
 "nbformat_minor": 5
}
