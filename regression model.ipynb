{
 "cells": [
  {
   "cell_type": "raw",
   "id": "92afc4f3",
   "metadata": {},
   "source": [
    "function [m,var_m,log_likelihood] = GPR(x,y,sigma_n,x_test)\n",
    "   %%% Inputs:\n",
    "   % X: input data for training.\n",
    "   % y: target (as in column matrix)\n",
    "   % kernel: kernel function (used ARD SE kernel in this case)\n",
    "   % sigma_y: noise level\n",
    "   \n",
    "   %%% Outputs:\n",
    "   % m: mean function of posterior predictive distribution\n",
    "   % var_m: covariance matrix of posterior predictive distribution\n",
    "   % log_likelihood: log(p(y|X))\n",
    "   \n",
    "   % Default setup\n",
    "   sigma_f = 1; \n",
    "   l = 1;\n",
    "   \n",
    "   % prior covariance matrix of x and x_test\n",
    "   %size(x,2) + size(x_test,2)\n",
    "   X = [x, x_test];\n",
    "   Cov = SE_kernel_cov(X,sigma_f,l);\n",
    "   \n",
    "   % covariance matrix of X, x_test\n",
    "   K_X = Cov(1:size(x,2),1:size(x,2));                      % K(X,X)\n",
    "   K_Xx = Cov(1:size(x,2),size(x,2)+1:size(X,2));           % K(X,x_test)\n",
    "   K_xX = Cov(size(x,2)+1:size(X,2),1:size(x,2));           % K(x_test,X)\n",
    "   K_x = Cov(size(x,2)+1:size(X,2),size(x,2)+1:size(X,2));  % K(x_test,x_test)\n",
    "   \n",
    "   % covariance matrix K_y = cov[y|X]\n",
    "   K_y = K_X + (sigma_n^2)*eye(size(x,2));\n",
    "   \n",
    "   % GPR (follows the algorithm in  Rasmussen, Williams. Gaussian Processes\n",
    "   % for Machine Learning)\n",
    "   L = chol(K_y);\n",
    "   a = L'\\(L\\y);\n",
    "   m = K_Xx'*a;\n",
    "   v = L\\K_Xx;\n",
    "   var_m = K_x - v'*v;\n",
    "   log_likelihood = -0.5*y'*a - sum(diag(L)) - (size(X,2)/2)*log(2*pi);\n",
    "\n",
    "end"
   ]
  },
  {
   "cell_type": "code",
   "execution_count": null,
   "id": "99854b08",
   "metadata": {},
   "outputs": [],
   "source": []
  }
 ],
 "metadata": {
  "kernelspec": {
   "display_name": "Python 3 (ipykernel)",
   "language": "python",
   "name": "python3"
  },
  "language_info": {
   "codemirror_mode": {
    "name": "ipython",
    "version": 3
   },
   "file_extension": ".py",
   "mimetype": "text/x-python",
   "name": "python",
   "nbconvert_exporter": "python",
   "pygments_lexer": "ipython3",
   "version": "3.7.1"
  }
 },
 "nbformat": 4,
 "nbformat_minor": 5
}
