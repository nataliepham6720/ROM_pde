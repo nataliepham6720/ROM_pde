{
 "cells": [
  {
   "cell_type": "markdown",
   "id": "b2c0ff3d",
   "metadata": {},
   "source": [
    "### Numerical solution to Viscous Burger equation using Crank-Nicolson methods\n",
    "Viscous Burger's equation\n",
    "$$ u_t + u u_x - \\nu u_{xx} = 0, \\nu = \\frac{\\mu}{50 \\pi}, \\text{ where } \\mu \\in \\{1,1.25,...,7.5\\} \\text{ in this notebook.}$$\n",
    "$ -1 < x < 1, 0 < t < 1$\n",
    "\n",
    "Boundary conditions: $ u(-1,t) = u (1,t) = 0$\n",
    "\n",
    "Initial conditions: $ u(x,0) = -sin(\\pi x)$\n",
    "\n",
    "#### References\n",
    "[1] Pandey, K. & Verma, Lajja. (2011). A Note on Crank-Nicolson Scheme for Burgers' Equation. Applied Mathematics. 02. 10.4236/am.2011.27118. \n",
    "\n",
    "[2] Wani, Sachin & Thakar, Sarita. (2013). Crank-Nicolson Type Method for Burgers Equation. International Journal of Applied Physics and Mathematics. 3. 324-328. 10.7763/IJAPM.2013.V3.230. "
   ]
  },
  {
   "cell_type": "code",
   "execution_count": 1,
   "id": "5bcd7b0d-b5dc-47ef-ab57-b3a6ff03eeec",
   "metadata": {},
   "outputs": [],
   "source": [
    "import numpy as np\n",
    "import pandas as pd\n",
    "import matplotlib.pyplot as plt\n",
    "from tqdm import tqdm"
   ]
  },
  {
   "cell_type": "code",
   "execution_count": 2,
   "id": "c3b61679-b051-4637-9f92-978d08504cdb",
   "metadata": {},
   "outputs": [],
   "source": [
    "def A(u_in,k,h,v):\n",
    "    return(((k*u_in)/(4*h)) - ((k*v)/(2*(h**2))))\n",
    "\n",
    "def B(u_i1n, u_I1n,k,h,v):\n",
    "    return((k*(u_i1n - u_I1n)/(4*h)) + ((k*v)/(h**2)) + 1)\n",
    "\n",
    "def C(u_in,k,h,v):\n",
    "    return(-((k*u_in)/(4*h)) - ((k*v)/(2*(h**2))))\n",
    "\n",
    "def D(u_i1n, u_in, u_I1n,k,h,v):\n",
    "    return(((k*v*u_i1n)/(2*(h**2))) + u_in*(1-((k*v)/(h**2))) + ((k*v*u_I1n)/(2*(h**2))))"
   ]
  },
  {
   "cell_type": "code",
   "execution_count": 3,
   "id": "9fc75ae9-a297-4a7e-abfc-b970bf3dedad",
   "metadata": {},
   "outputs": [],
   "source": [
    "def Crank_Nicolson(X,N,k,h,v):\n",
    "    listB = []\n",
    "    for i in range(N-2):\n",
    "        listB.append(B(X[i+2],X[i],k,h,v))\n",
    "    BB = np.diag(listB)\n",
    "    #print(BB)\n",
    "    \n",
    "    listA = []\n",
    "    for i in range(N-3):\n",
    "        listA.append(A(X[i+1],k,h,v))\n",
    "    AA = np.diag(listA,1)\n",
    "    #print(AA)\n",
    "    \n",
    "    listC = []\n",
    "    for i in range(N-3):\n",
    "        listC.append(C(X[i+1],k,h,v))\n",
    "    CC = np.diag(listC,-1)\n",
    "    #print(CC)\n",
    "    \n",
    "    M = AA + BB + CC\n",
    "    #print(M)\n",
    "    #print(M.shape)\n",
    "    \n",
    "    listD = []\n",
    "    listD.append(D(X[2],X[1],X[0],k,h,v))\n",
    "    for i in range(1,N-3):\n",
    "        listD.append(D(X[i+2],X[i+1],X[i],k,h,v))\n",
    "    listD.append(D(X[N-4],X[N-3],X[N-2],k,h,v))\n",
    "    DD = np.array(listD).reshape(-1,1)\n",
    "    #print(DD.shape)\n",
    "    \n",
    "    uu = np.linalg.solve(M, DD)\n",
    "    \n",
    "    # plt.plot(t[1:N-1],uu)\n",
    "    #print(np.max(uu))\n",
    "    return(uu)"
   ]
  },
  {
   "cell_type": "code",
   "execution_count": 4,
   "id": "5cd213bd",
   "metadata": {},
   "outputs": [],
   "source": [
    "def viscous_burger(mu):\n",
    "    # initialize conditions\n",
    "    N = 1024\n",
    "    h = 2/N # Dx\n",
    "    k = 1/N # Dt\n",
    "    x = np.arange(-1,1+h,h)\n",
    "    t = np.arange(0,1+k,k)\n",
    "    \n",
    "    boundaryCond = [0,0]\n",
    "    initialCond = - np.sin(np.pi*x)\n",
    "    \n",
    "    # set up the solution mesh\n",
    "    n = len(x) # dimension of parametrized spatial space\n",
    "    m = len(t) # dimension of parametrized time space \n",
    "    mesh = np.zeros((n,m))\n",
    "    mesh[0,:] = boundaryCond[0]\n",
    "    mesh[-1,:] = boundaryCond[1]\n",
    "    mesh[:,0] = initialCond\n",
    "    \n",
    "    # set up the equation\n",
    "    v = mu/(50*np.pi)\n",
    "    \n",
    "    for i in tqdm(range(mesh.shape[1])):\n",
    "        uu = Crank_Nicolson(mesh[:,i],N,k,h,v)\n",
    "        uu = uu.flatten()\n",
    "    \n",
    "        if np.max(uu) > 100:\n",
    "            print(np.max(uu))\n",
    "            break\n",
    "        if i <= N-2:\n",
    "            mesh[1:N-1,i+1] = uu\n",
    "            \n",
    "    return(mesh)"
   ]
  },
  {
   "cell_type": "code",
   "execution_count": 5,
   "id": "a72f2dd1",
   "metadata": {},
   "outputs": [],
   "source": [
    "N = 1024\n",
    "h = 2/N # Dx\n",
    "k = 1/N # Dt\n",
    "x = np.arange(-1,1+h,h)\n",
    "t = np.arange(0,1+k,k)"
   ]
  },
  {
   "cell_type": "code",
   "execution_count": 6,
   "id": "e07460f4",
   "metadata": {},
   "outputs": [
    {
     "name": "stderr",
     "output_type": "stream",
     "text": [
      "100%|██████████████████████████████████████████████████████████████████████████████| 1025/1025 [01:31<00:00, 11.24it/s]\n"
     ]
    },
    {
     "name": "stdout",
     "output_type": "stream",
     "text": [
      "1.25\n"
     ]
    },
    {
     "name": "stderr",
     "output_type": "stream",
     "text": [
      "100%|██████████████████████████████████████████████████████████████████████████████| 1025/1025 [03:15<00:00,  5.24it/s]\n"
     ]
    },
    {
     "name": "stdout",
     "output_type": "stream",
     "text": [
      "1.5\n"
     ]
    },
    {
     "name": "stderr",
     "output_type": "stream",
     "text": [
      "100%|██████████████████████████████████████████████████████████████████████████████| 1025/1025 [03:40<00:00,  4.64it/s]\n"
     ]
    },
    {
     "name": "stdout",
     "output_type": "stream",
     "text": [
      "1.75\n"
     ]
    },
    {
     "name": "stderr",
     "output_type": "stream",
     "text": [
      "100%|██████████████████████████████████████████████████████████████████████████████| 1025/1025 [02:19<00:00,  7.33it/s]\n"
     ]
    },
    {
     "name": "stdout",
     "output_type": "stream",
     "text": [
      "2.0\n"
     ]
    },
    {
     "name": "stderr",
     "output_type": "stream",
     "text": [
      "100%|██████████████████████████████████████████████████████████████████████████████| 1025/1025 [03:17<00:00,  5.19it/s]\n"
     ]
    },
    {
     "name": "stdout",
     "output_type": "stream",
     "text": [
      "2.25\n"
     ]
    },
    {
     "name": "stderr",
     "output_type": "stream",
     "text": [
      "100%|██████████████████████████████████████████████████████████████████████████████| 1025/1025 [02:13<00:00,  7.68it/s]\n"
     ]
    },
    {
     "name": "stdout",
     "output_type": "stream",
     "text": [
      "2.5\n"
     ]
    },
    {
     "name": "stderr",
     "output_type": "stream",
     "text": [
      "100%|██████████████████████████████████████████████████████████████████████████████| 1025/1025 [03:09<00:00,  5.41it/s]\n"
     ]
    },
    {
     "name": "stdout",
     "output_type": "stream",
     "text": [
      "2.75\n"
     ]
    },
    {
     "name": "stderr",
     "output_type": "stream",
     "text": [
      "100%|██████████████████████████████████████████████████████████████████████████████| 1025/1025 [04:12<00:00,  4.06it/s]\n"
     ]
    },
    {
     "name": "stdout",
     "output_type": "stream",
     "text": [
      "3.0\n"
     ]
    },
    {
     "name": "stderr",
     "output_type": "stream",
     "text": [
      "100%|██████████████████████████████████████████████████████████████████████████████| 1025/1025 [03:00<00:00,  5.68it/s]\n"
     ]
    },
    {
     "name": "stdout",
     "output_type": "stream",
     "text": [
      "3.25\n"
     ]
    },
    {
     "name": "stderr",
     "output_type": "stream",
     "text": [
      "100%|██████████████████████████████████████████████████████████████████████████████| 1025/1025 [03:35<00:00,  4.77it/s]\n"
     ]
    },
    {
     "name": "stdout",
     "output_type": "stream",
     "text": [
      "3.5\n"
     ]
    },
    {
     "name": "stderr",
     "output_type": "stream",
     "text": [
      "100%|██████████████████████████████████████████████████████████████████████████████| 1025/1025 [02:09<00:00,  7.93it/s]\n"
     ]
    },
    {
     "name": "stdout",
     "output_type": "stream",
     "text": [
      "3.75\n"
     ]
    },
    {
     "name": "stderr",
     "output_type": "stream",
     "text": [
      "100%|██████████████████████████████████████████████████████████████████████████████| 1025/1025 [01:47<00:00,  9.56it/s]\n"
     ]
    },
    {
     "name": "stdout",
     "output_type": "stream",
     "text": [
      "4.0\n"
     ]
    },
    {
     "name": "stderr",
     "output_type": "stream",
     "text": [
      "100%|██████████████████████████████████████████████████████████████████████████████| 1025/1025 [01:47<00:00,  9.56it/s]\n"
     ]
    },
    {
     "name": "stdout",
     "output_type": "stream",
     "text": [
      "4.25\n"
     ]
    },
    {
     "name": "stderr",
     "output_type": "stream",
     "text": [
      "100%|██████████████████████████████████████████████████████████████████████████████| 1025/1025 [03:16<00:00,  5.22it/s]\n"
     ]
    },
    {
     "name": "stdout",
     "output_type": "stream",
     "text": [
      "4.5\n"
     ]
    },
    {
     "name": "stderr",
     "output_type": "stream",
     "text": [
      "100%|██████████████████████████████████████████████████████████████████████████████| 1025/1025 [02:33<00:00,  6.69it/s]\n"
     ]
    },
    {
     "name": "stdout",
     "output_type": "stream",
     "text": [
      "4.75\n"
     ]
    },
    {
     "name": "stderr",
     "output_type": "stream",
     "text": [
      "100%|██████████████████████████████████████████████████████████████████████████████| 1025/1025 [02:14<00:00,  7.63it/s]\n"
     ]
    },
    {
     "name": "stdout",
     "output_type": "stream",
     "text": [
      "5.0\n"
     ]
    },
    {
     "name": "stderr",
     "output_type": "stream",
     "text": [
      "100%|██████████████████████████████████████████████████████████████████████████████| 1025/1025 [01:58<00:00,  8.67it/s]\n"
     ]
    },
    {
     "name": "stdout",
     "output_type": "stream",
     "text": [
      "5.25\n"
     ]
    },
    {
     "name": "stderr",
     "output_type": "stream",
     "text": [
      "100%|██████████████████████████████████████████████████████████████████████████████| 1025/1025 [01:56<00:00,  8.79it/s]\n"
     ]
    },
    {
     "name": "stdout",
     "output_type": "stream",
     "text": [
      "5.5\n"
     ]
    },
    {
     "name": "stderr",
     "output_type": "stream",
     "text": [
      "100%|██████████████████████████████████████████████████████████████████████████████| 1025/1025 [03:28<00:00,  4.92it/s]\n"
     ]
    },
    {
     "name": "stdout",
     "output_type": "stream",
     "text": [
      "5.75\n"
     ]
    },
    {
     "name": "stderr",
     "output_type": "stream",
     "text": [
      "100%|██████████████████████████████████████████████████████████████████████████████| 1025/1025 [01:18<00:00, 13.11it/s]\n"
     ]
    },
    {
     "name": "stdout",
     "output_type": "stream",
     "text": [
      "6.0\n"
     ]
    },
    {
     "name": "stderr",
     "output_type": "stream",
     "text": [
      "100%|██████████████████████████████████████████████████████████████████████████████| 1025/1025 [01:55<00:00,  8.91it/s]\n"
     ]
    },
    {
     "name": "stdout",
     "output_type": "stream",
     "text": [
      "6.25\n"
     ]
    },
    {
     "name": "stderr",
     "output_type": "stream",
     "text": [
      "100%|██████████████████████████████████████████████████████████████████████████████| 1025/1025 [02:19<00:00,  7.34it/s]\n"
     ]
    },
    {
     "name": "stdout",
     "output_type": "stream",
     "text": [
      "6.5\n"
     ]
    },
    {
     "name": "stderr",
     "output_type": "stream",
     "text": [
      "100%|██████████████████████████████████████████████████████████████████████████████| 1025/1025 [01:52<00:00,  9.10it/s]\n"
     ]
    },
    {
     "name": "stdout",
     "output_type": "stream",
     "text": [
      "6.75\n"
     ]
    },
    {
     "name": "stderr",
     "output_type": "stream",
     "text": [
      "100%|██████████████████████████████████████████████████████████████████████████████| 1025/1025 [02:02<00:00,  8.34it/s]\n"
     ]
    },
    {
     "name": "stdout",
     "output_type": "stream",
     "text": [
      "7.0\n"
     ]
    },
    {
     "name": "stderr",
     "output_type": "stream",
     "text": [
      "100%|██████████████████████████████████████████████████████████████████████████████| 1025/1025 [01:42<00:00, 10.02it/s]\n"
     ]
    },
    {
     "name": "stdout",
     "output_type": "stream",
     "text": [
      "7.25\n"
     ]
    },
    {
     "name": "stderr",
     "output_type": "stream",
     "text": [
      "100%|██████████████████████████████████████████████████████████████████████████████| 1025/1025 [01:47<00:00,  9.51it/s]\n"
     ]
    },
    {
     "name": "stdout",
     "output_type": "stream",
     "text": [
      "7.5\n"
     ]
    },
    {
     "name": "stderr",
     "output_type": "stream",
     "text": [
      "100%|██████████████████████████████████████████████████████████████████████████████| 1025/1025 [01:52<00:00,  9.08it/s]\n"
     ]
    }
   ],
   "source": [
    "Mu = np.arange(1,7.75,0.25)\n",
    "snapshot = viscous_burger(mu=1)\n",
    "for mu in Mu[1:]:\n",
    "    print(mu)\n",
    "    sol_mesh = viscous_burger(mu)\n",
    "    snapshot = np.append(snapshot, sol_mesh, axis=1)"
   ]
  },
  {
   "cell_type": "code",
   "execution_count": null,
   "id": "7d633281",
   "metadata": {},
   "outputs": [],
   "source": []
  },
  {
   "cell_type": "code",
   "execution_count": 7,
   "id": "b9907502",
   "metadata": {},
   "outputs": [
    {
     "name": "stdout",
     "output_type": "stream",
     "text": [
      "(1025, 27675)\n"
     ]
    }
   ],
   "source": [
    "df = pd.DataFrame(snapshot)\n",
    "print(df.shape)\n",
    "df.to_csv('snapshot.csv',index=False)"
   ]
  },
  {
   "cell_type": "code",
   "execution_count": 8,
   "id": "44230827",
   "metadata": {},
   "outputs": [],
   "source": [
    "df.to_csv('full-order_sol.csv',index=False)"
   ]
  }
 ],
 "metadata": {
  "kernelspec": {
   "display_name": "Python 3 (ipykernel)",
   "language": "python",
   "name": "python3"
  },
  "language_info": {
   "codemirror_mode": {
    "name": "ipython",
    "version": 3
   },
   "file_extension": ".py",
   "mimetype": "text/x-python",
   "name": "python",
   "nbconvert_exporter": "python",
   "pygments_lexer": "ipython3",
   "version": "3.7.1"
  }
 },
 "nbformat": 4,
 "nbformat_minor": 5
}
